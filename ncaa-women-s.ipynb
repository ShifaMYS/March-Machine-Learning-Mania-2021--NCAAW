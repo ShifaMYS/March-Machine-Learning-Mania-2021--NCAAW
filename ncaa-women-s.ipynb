{
 "cells": [
  {
   "cell_type": "code",
   "execution_count": 1,
   "metadata": {
    "_cell_guid": "b1076dfc-b9ad-4769-8c92-a6c4dae69d19",
    "_uuid": "8f2839f25d086af736a60e9eeb907d3b93b6e0e5",
    "execution": {
     "iopub.execute_input": "2021-07-19T07:03:30.393656Z",
     "iopub.status.busy": "2021-07-19T07:03:30.392967Z",
     "iopub.status.idle": "2021-07-19T07:03:31.701090Z",
     "shell.execute_reply": "2021-07-19T07:03:31.700462Z"
    },
    "papermill": {
     "duration": 1.357652,
     "end_time": "2021-07-19T07:03:31.701324",
     "exception": false,
     "start_time": "2021-07-19T07:03:30.343672",
     "status": "completed"
    },
    "tags": []
   },
   "outputs": [],
   "source": [
    "#import all required packages\n",
    "import os\n",
    "import re\n",
    "import sklearn\n",
    "import numpy as np \n",
    "import pandas as pd\n",
    "import seaborn as sns\n",
    "import matplotlib.pyplot as plt\n",
    "\n",
    "from collections import Counter\n",
    "from sklearn.metrics import *\n",
    "from sklearn.linear_model import *\n",
    "from sklearn.model_selection import *\n",
    "\n",
    "pd.set_option('display.max_columns', None)"
   ]
  },
  {
   "cell_type": "code",
   "execution_count": 2,
   "metadata": {
    "execution": {
     "iopub.execute_input": "2021-07-19T07:03:31.785926Z",
     "iopub.status.busy": "2021-07-19T07:03:31.785300Z",
     "iopub.status.idle": "2021-07-19T07:03:31.788104Z",
     "shell.execute_reply": "2021-07-19T07:03:31.787630Z"
    },
    "papermill": {
     "duration": 0.046723,
     "end_time": "2021-07-19T07:03:31.788262",
     "exception": false,
     "start_time": "2021-07-19T07:03:31.741539",
     "status": "completed"
    },
    "tags": []
   },
   "outputs": [],
   "source": [
    "DATA_PATH = '../input/ncaaw-march-mania-2021/WDataFiles_Stage2/'"
   ]
  },
  {
   "cell_type": "markdown",
   "metadata": {
    "papermill": {
     "duration": 0.04248,
     "end_time": "2021-07-19T07:03:31.870676",
     "exception": false,
     "start_time": "2021-07-19T07:03:31.828196",
     "status": "completed"
    },
    "tags": []
   },
   "source": [
    "# Data preparation"
   ]
  },
  {
   "cell_type": "code",
   "execution_count": 3,
   "metadata": {
    "execution": {
     "iopub.execute_input": "2021-07-19T07:03:31.964005Z",
     "iopub.status.busy": "2021-07-19T07:03:31.963370Z",
     "iopub.status.idle": "2021-07-19T07:03:32.018097Z",
     "shell.execute_reply": "2021-07-19T07:03:32.018700Z"
    },
    "papermill": {
     "duration": 0.098748,
     "end_time": "2021-07-19T07:03:32.018874",
     "exception": false,
     "start_time": "2021-07-19T07:03:31.920126",
     "status": "completed"
    },
    "tags": []
   },
   "outputs": [
    {
     "data": {
      "text/html": [
       "<div>\n",
       "<style scoped>\n",
       "    .dataframe tbody tr th:only-of-type {\n",
       "        vertical-align: middle;\n",
       "    }\n",
       "\n",
       "    .dataframe tbody tr th {\n",
       "        vertical-align: top;\n",
       "    }\n",
       "\n",
       "    .dataframe thead th {\n",
       "        text-align: right;\n",
       "    }\n",
       "</style>\n",
       "<table border=\"1\" class=\"dataframe\">\n",
       "  <thead>\n",
       "    <tr style=\"text-align: right;\">\n",
       "      <th></th>\n",
       "      <th>Season</th>\n",
       "      <th>Seed</th>\n",
       "      <th>TeamID</th>\n",
       "    </tr>\n",
       "  </thead>\n",
       "  <tbody>\n",
       "    <tr>\n",
       "      <th>0</th>\n",
       "      <td>1998</td>\n",
       "      <td>W01</td>\n",
       "      <td>3330</td>\n",
       "    </tr>\n",
       "    <tr>\n",
       "      <th>1</th>\n",
       "      <td>1998</td>\n",
       "      <td>W02</td>\n",
       "      <td>3163</td>\n",
       "    </tr>\n",
       "    <tr>\n",
       "      <th>2</th>\n",
       "      <td>1998</td>\n",
       "      <td>W03</td>\n",
       "      <td>3112</td>\n",
       "    </tr>\n",
       "    <tr>\n",
       "      <th>3</th>\n",
       "      <td>1998</td>\n",
       "      <td>W04</td>\n",
       "      <td>3301</td>\n",
       "    </tr>\n",
       "    <tr>\n",
       "      <th>4</th>\n",
       "      <td>1998</td>\n",
       "      <td>W05</td>\n",
       "      <td>3272</td>\n",
       "    </tr>\n",
       "  </tbody>\n",
       "</table>\n",
       "</div>"
      ],
      "text/plain": [
       "   Season Seed  TeamID\n",
       "0    1998  W01    3330\n",
       "1    1998  W02    3163\n",
       "2    1998  W03    3112\n",
       "3    1998  W04    3301\n",
       "4    1998  W05    3272"
      ]
     },
     "execution_count": 3,
     "metadata": {},
     "output_type": "execute_result"
    }
   ],
   "source": [
    "df_seeds = pd.read_csv(DATA_PATH + \"WNCAATourneySeeds.csv\")\n",
    "df_seeds.head()"
   ]
  },
  {
   "cell_type": "code",
   "execution_count": 4,
   "metadata": {
    "execution": {
     "iopub.execute_input": "2021-07-19T07:03:32.104486Z",
     "iopub.status.busy": "2021-07-19T07:03:32.103867Z",
     "iopub.status.idle": "2021-07-19T07:03:32.234495Z",
     "shell.execute_reply": "2021-07-19T07:03:32.233516Z"
    },
    "papermill": {
     "duration": 0.174045,
     "end_time": "2021-07-19T07:03:32.234755",
     "exception": false,
     "start_time": "2021-07-19T07:03:32.060710",
     "status": "completed"
    },
    "tags": []
   },
   "outputs": [],
   "source": [
    "df_season_results = pd.read_csv(DATA_PATH + \"WRegularSeasonCompactResults.csv\")\n",
    "df_season_results.drop(['NumOT', 'WLoc'], axis=1, inplace=True)"
   ]
  },
  {
   "cell_type": "code",
   "execution_count": 5,
   "metadata": {
    "execution": {
     "iopub.execute_input": "2021-07-19T07:03:32.344987Z",
     "iopub.status.busy": "2021-07-19T07:03:32.344335Z",
     "iopub.status.idle": "2021-07-19T07:03:32.366482Z",
     "shell.execute_reply": "2021-07-19T07:03:32.365799Z"
    },
    "papermill": {
     "duration": 0.071502,
     "end_time": "2021-07-19T07:03:32.366623",
     "exception": false,
     "start_time": "2021-07-19T07:03:32.295121",
     "status": "completed"
    },
    "tags": []
   },
   "outputs": [],
   "source": [
    "df_season_results['ScoreGap'] = df_season_results['WScore'] - df_season_results['LScore']"
   ]
  },
  {
   "cell_type": "code",
   "execution_count": 6,
   "metadata": {
    "execution": {
     "iopub.execute_input": "2021-07-19T07:03:32.459860Z",
     "iopub.status.busy": "2021-07-19T07:03:32.459009Z",
     "iopub.status.idle": "2021-07-19T07:03:32.463357Z",
     "shell.execute_reply": "2021-07-19T07:03:32.462762Z"
    },
    "papermill": {
     "duration": 0.055652,
     "end_time": "2021-07-19T07:03:32.463508",
     "exception": false,
     "start_time": "2021-07-19T07:03:32.407856",
     "status": "completed"
    },
    "tags": []
   },
   "outputs": [
    {
     "data": {
      "text/html": [
       "<div>\n",
       "<style scoped>\n",
       "    .dataframe tbody tr th:only-of-type {\n",
       "        vertical-align: middle;\n",
       "    }\n",
       "\n",
       "    .dataframe tbody tr th {\n",
       "        vertical-align: top;\n",
       "    }\n",
       "\n",
       "    .dataframe thead th {\n",
       "        text-align: right;\n",
       "    }\n",
       "</style>\n",
       "<table border=\"1\" class=\"dataframe\">\n",
       "  <thead>\n",
       "    <tr style=\"text-align: right;\">\n",
       "      <th></th>\n",
       "      <th>Season</th>\n",
       "      <th>DayNum</th>\n",
       "      <th>WTeamID</th>\n",
       "      <th>WScore</th>\n",
       "      <th>LTeamID</th>\n",
       "      <th>LScore</th>\n",
       "      <th>ScoreGap</th>\n",
       "    </tr>\n",
       "  </thead>\n",
       "  <tbody>\n",
       "    <tr>\n",
       "      <th>0</th>\n",
       "      <td>1998</td>\n",
       "      <td>18</td>\n",
       "      <td>3104</td>\n",
       "      <td>91</td>\n",
       "      <td>3202</td>\n",
       "      <td>41</td>\n",
       "      <td>50</td>\n",
       "    </tr>\n",
       "    <tr>\n",
       "      <th>1</th>\n",
       "      <td>1998</td>\n",
       "      <td>18</td>\n",
       "      <td>3163</td>\n",
       "      <td>87</td>\n",
       "      <td>3221</td>\n",
       "      <td>76</td>\n",
       "      <td>11</td>\n",
       "    </tr>\n",
       "    <tr>\n",
       "      <th>2</th>\n",
       "      <td>1998</td>\n",
       "      <td>18</td>\n",
       "      <td>3222</td>\n",
       "      <td>66</td>\n",
       "      <td>3261</td>\n",
       "      <td>59</td>\n",
       "      <td>7</td>\n",
       "    </tr>\n",
       "    <tr>\n",
       "      <th>3</th>\n",
       "      <td>1998</td>\n",
       "      <td>18</td>\n",
       "      <td>3307</td>\n",
       "      <td>69</td>\n",
       "      <td>3365</td>\n",
       "      <td>62</td>\n",
       "      <td>7</td>\n",
       "    </tr>\n",
       "    <tr>\n",
       "      <th>4</th>\n",
       "      <td>1998</td>\n",
       "      <td>18</td>\n",
       "      <td>3349</td>\n",
       "      <td>115</td>\n",
       "      <td>3411</td>\n",
       "      <td>35</td>\n",
       "      <td>80</td>\n",
       "    </tr>\n",
       "  </tbody>\n",
       "</table>\n",
       "</div>"
      ],
      "text/plain": [
       "   Season  DayNum  WTeamID  WScore  LTeamID  LScore  ScoreGap\n",
       "0    1998      18     3104      91     3202      41        50\n",
       "1    1998      18     3163      87     3221      76        11\n",
       "2    1998      18     3222      66     3261      59         7\n",
       "3    1998      18     3307      69     3365      62         7\n",
       "4    1998      18     3349     115     3411      35        80"
      ]
     },
     "execution_count": 6,
     "metadata": {},
     "output_type": "execute_result"
    }
   ],
   "source": [
    "df_season_results.head()"
   ]
  },
  {
   "cell_type": "markdown",
   "metadata": {
    "papermill": {
     "duration": 0.045562,
     "end_time": "2021-07-19T07:03:32.550835",
     "exception": false,
     "start_time": "2021-07-19T07:03:32.505273",
     "status": "completed"
    },
    "tags": []
   },
   "source": [
    "### Features \n",
    "For each team at each season, I compute : \n",
    "- Number of wins\n",
    "- Number of losses\n",
    "- Average score gap of wins\n",
    "- Average score gap of losses\n",
    "\n",
    "And use the following features : \n",
    "- Win Ratio\n",
    "- Average score gap"
   ]
  },
  {
   "cell_type": "code",
   "execution_count": 7,
   "metadata": {
    "execution": {
     "iopub.execute_input": "2021-07-19T07:03:32.638215Z",
     "iopub.status.busy": "2021-07-19T07:03:32.637608Z",
     "iopub.status.idle": "2021-07-19T07:03:32.679526Z",
     "shell.execute_reply": "2021-07-19T07:03:32.678938Z"
    },
    "papermill": {
     "duration": 0.086482,
     "end_time": "2021-07-19T07:03:32.679676",
     "exception": false,
     "start_time": "2021-07-19T07:03:32.593194",
     "status": "completed"
    },
    "tags": []
   },
   "outputs": [],
   "source": [
    "num_win = df_season_results.groupby(['Season', 'WTeamID']).count()\n",
    "num_win = num_win.reset_index()[['Season', 'WTeamID', 'DayNum']].rename(columns={\"DayNum\": \"NumWins\", \"WTeamID\": \"TeamID\"})"
   ]
  },
  {
   "cell_type": "code",
   "execution_count": 8,
   "metadata": {
    "execution": {
     "iopub.execute_input": "2021-07-19T07:03:32.771154Z",
     "iopub.status.busy": "2021-07-19T07:03:32.770530Z",
     "iopub.status.idle": "2021-07-19T07:03:32.785601Z",
     "shell.execute_reply": "2021-07-19T07:03:32.785001Z"
    },
    "papermill": {
     "duration": 0.063887,
     "end_time": "2021-07-19T07:03:32.785747",
     "exception": false,
     "start_time": "2021-07-19T07:03:32.721860",
     "status": "completed"
    },
    "tags": []
   },
   "outputs": [],
   "source": [
    "num_loss = df_season_results.groupby(['Season', 'LTeamID']).count()\n",
    "num_loss = num_loss.reset_index()[['Season', 'LTeamID', 'DayNum']].rename(columns={\"DayNum\": \"NumLosses\", \"LTeamID\": \"TeamID\"})"
   ]
  },
  {
   "cell_type": "code",
   "execution_count": 9,
   "metadata": {
    "execution": {
     "iopub.execute_input": "2021-07-19T07:03:32.873315Z",
     "iopub.status.busy": "2021-07-19T07:03:32.872343Z",
     "iopub.status.idle": "2021-07-19T07:03:32.898540Z",
     "shell.execute_reply": "2021-07-19T07:03:32.897384Z"
    },
    "papermill": {
     "duration": 0.071197,
     "end_time": "2021-07-19T07:03:32.898708",
     "exception": false,
     "start_time": "2021-07-19T07:03:32.827511",
     "status": "completed"
    },
    "tags": []
   },
   "outputs": [],
   "source": [
    "gap_win = df_season_results.groupby(['Season', 'WTeamID']).mean().reset_index()\n",
    "gap_win = gap_win[['Season', 'WTeamID', 'ScoreGap']].rename(columns={\"ScoreGap\": \"GapWins\", \"WTeamID\": \"TeamID\"})"
   ]
  },
  {
   "cell_type": "code",
   "execution_count": 10,
   "metadata": {
    "execution": {
     "iopub.execute_input": "2021-07-19T07:03:32.992198Z",
     "iopub.status.busy": "2021-07-19T07:03:32.991583Z",
     "iopub.status.idle": "2021-07-19T07:03:33.008943Z",
     "shell.execute_reply": "2021-07-19T07:03:33.008334Z"
    },
    "papermill": {
     "duration": 0.068337,
     "end_time": "2021-07-19T07:03:33.009088",
     "exception": false,
     "start_time": "2021-07-19T07:03:32.940751",
     "status": "completed"
    },
    "tags": []
   },
   "outputs": [],
   "source": [
    "gap_loss = df_season_results.groupby(['Season', 'LTeamID']).mean().reset_index()\n",
    "gap_loss = gap_loss[['Season', 'LTeamID', 'ScoreGap']].rename(columns={\"ScoreGap\": \"GapLosses\", \"LTeamID\": \"TeamID\"})"
   ]
  },
  {
   "cell_type": "markdown",
   "metadata": {
    "papermill": {
     "duration": 0.042142,
     "end_time": "2021-07-19T07:03:33.093222",
     "exception": false,
     "start_time": "2021-07-19T07:03:33.051080",
     "status": "completed"
    },
    "tags": []
   },
   "source": [
    "Merge"
   ]
  },
  {
   "cell_type": "code",
   "execution_count": 11,
   "metadata": {
    "execution": {
     "iopub.execute_input": "2021-07-19T07:03:33.185753Z",
     "iopub.status.busy": "2021-07-19T07:03:33.184706Z",
     "iopub.status.idle": "2021-07-19T07:03:33.211287Z",
     "shell.execute_reply": "2021-07-19T07:03:33.210712Z"
    },
    "papermill": {
     "duration": 0.075982,
     "end_time": "2021-07-19T07:03:33.211427",
     "exception": false,
     "start_time": "2021-07-19T07:03:33.135445",
     "status": "completed"
    },
    "tags": []
   },
   "outputs": [],
   "source": [
    "df_features_season_w = df_season_results.groupby(['Season', 'WTeamID']).count().reset_index()[['Season', 'WTeamID']].rename(columns={\"WTeamID\": \"TeamID\"})\n",
    "df_features_season_l = df_season_results.groupby(['Season', 'LTeamID']).count().reset_index()[['Season', 'LTeamID']].rename(columns={\"LTeamID\": \"TeamID\"})"
   ]
  },
  {
   "cell_type": "code",
   "execution_count": 12,
   "metadata": {
    "execution": {
     "iopub.execute_input": "2021-07-19T07:03:33.301868Z",
     "iopub.status.busy": "2021-07-19T07:03:33.300796Z",
     "iopub.status.idle": "2021-07-19T07:03:33.311322Z",
     "shell.execute_reply": "2021-07-19T07:03:33.310745Z"
    },
    "papermill": {
     "duration": 0.058218,
     "end_time": "2021-07-19T07:03:33.311467",
     "exception": false,
     "start_time": "2021-07-19T07:03:33.253249",
     "status": "completed"
    },
    "tags": []
   },
   "outputs": [],
   "source": [
    "df_features_season = pd.concat([df_features_season_w, df_features_season_l], 0).drop_duplicates().sort_values(['Season', 'TeamID']).reset_index(drop=True)"
   ]
  },
  {
   "cell_type": "code",
   "execution_count": 13,
   "metadata": {
    "execution": {
     "iopub.execute_input": "2021-07-19T07:03:33.403445Z",
     "iopub.status.busy": "2021-07-19T07:03:33.402784Z",
     "iopub.status.idle": "2021-07-19T07:03:33.425675Z",
     "shell.execute_reply": "2021-07-19T07:03:33.425050Z"
    },
    "papermill": {
     "duration": 0.072286,
     "end_time": "2021-07-19T07:03:33.425842",
     "exception": false,
     "start_time": "2021-07-19T07:03:33.353556",
     "status": "completed"
    },
    "tags": []
   },
   "outputs": [],
   "source": [
    "df_features_season = df_features_season.merge(num_win, on=['Season', 'TeamID'], how='left')\n",
    "df_features_season = df_features_season.merge(num_loss, on=['Season', 'TeamID'], how='left')\n",
    "df_features_season = df_features_season.merge(gap_win, on=['Season', 'TeamID'], how='left')\n",
    "df_features_season = df_features_season.merge(gap_loss, on=['Season', 'TeamID'], how='left')"
   ]
  },
  {
   "cell_type": "code",
   "execution_count": 14,
   "metadata": {
    "execution": {
     "iopub.execute_input": "2021-07-19T07:03:33.515523Z",
     "iopub.status.busy": "2021-07-19T07:03:33.514889Z",
     "iopub.status.idle": "2021-07-19T07:03:33.519189Z",
     "shell.execute_reply": "2021-07-19T07:03:33.518675Z"
    },
    "papermill": {
     "duration": 0.050909,
     "end_time": "2021-07-19T07:03:33.519344",
     "exception": false,
     "start_time": "2021-07-19T07:03:33.468435",
     "status": "completed"
    },
    "tags": []
   },
   "outputs": [],
   "source": [
    "df_features_season.fillna(0, inplace=True)  "
   ]
  },
  {
   "cell_type": "markdown",
   "metadata": {
    "papermill": {
     "duration": 0.049296,
     "end_time": "2021-07-19T07:03:33.629636",
     "exception": false,
     "start_time": "2021-07-19T07:03:33.580340",
     "status": "completed"
    },
    "tags": []
   },
   "source": [
    "Compute features"
   ]
  },
  {
   "cell_type": "code",
   "execution_count": 15,
   "metadata": {
    "execution": {
     "iopub.execute_input": "2021-07-19T07:03:33.725829Z",
     "iopub.status.busy": "2021-07-19T07:03:33.725082Z",
     "iopub.status.idle": "2021-07-19T07:03:33.727883Z",
     "shell.execute_reply": "2021-07-19T07:03:33.727185Z"
    },
    "papermill": {
     "duration": 0.054342,
     "end_time": "2021-07-19T07:03:33.728023",
     "exception": false,
     "start_time": "2021-07-19T07:03:33.673681",
     "status": "completed"
    },
    "tags": []
   },
   "outputs": [],
   "source": [
    "df_features_season['WinRatio'] = df_features_season['NumWins'] / (df_features_season['NumWins'] + df_features_season['NumLosses'])\n",
    "df_features_season['GapAvg'] = (\n",
    "    (df_features_season['NumWins'] * df_features_season['GapWins'] - \n",
    "    df_features_season['NumLosses'] * df_features_season['GapLosses'])\n",
    "    / (df_features_season['NumWins'] + df_features_season['NumLosses'])\n",
    ")"
   ]
  },
  {
   "cell_type": "code",
   "execution_count": 16,
   "metadata": {
    "execution": {
     "iopub.execute_input": "2021-07-19T07:03:33.820384Z",
     "iopub.status.busy": "2021-07-19T07:03:33.819771Z",
     "iopub.status.idle": "2021-07-19T07:03:33.821708Z",
     "shell.execute_reply": "2021-07-19T07:03:33.822268Z"
    },
    "papermill": {
     "duration": 0.051098,
     "end_time": "2021-07-19T07:03:33.822437",
     "exception": false,
     "start_time": "2021-07-19T07:03:33.771339",
     "status": "completed"
    },
    "tags": []
   },
   "outputs": [],
   "source": [
    "df_features_season.drop(['NumWins', 'NumLosses', 'GapWins', 'GapLosses'], axis=1, inplace=True)"
   ]
  },
  {
   "cell_type": "code",
   "execution_count": 17,
   "metadata": {
    "execution": {
     "iopub.execute_input": "2021-07-19T07:03:33.911877Z",
     "iopub.status.busy": "2021-07-19T07:03:33.911219Z",
     "iopub.status.idle": "2021-07-19T07:03:33.920927Z",
     "shell.execute_reply": "2021-07-19T07:03:33.921525Z"
    },
    "papermill": {
     "duration": 0.056156,
     "end_time": "2021-07-19T07:03:33.921700",
     "exception": false,
     "start_time": "2021-07-19T07:03:33.865544",
     "status": "completed"
    },
    "tags": []
   },
   "outputs": [
    {
     "data": {
      "text/html": [
       "<div>\n",
       "<style scoped>\n",
       "    .dataframe tbody tr th:only-of-type {\n",
       "        vertical-align: middle;\n",
       "    }\n",
       "\n",
       "    .dataframe tbody tr th {\n",
       "        vertical-align: top;\n",
       "    }\n",
       "\n",
       "    .dataframe thead th {\n",
       "        text-align: right;\n",
       "    }\n",
       "</style>\n",
       "<table border=\"1\" class=\"dataframe\">\n",
       "  <thead>\n",
       "    <tr style=\"text-align: right;\">\n",
       "      <th></th>\n",
       "      <th>Season</th>\n",
       "      <th>TeamID</th>\n",
       "      <th>WinRatio</th>\n",
       "      <th>GapAvg</th>\n",
       "    </tr>\n",
       "  </thead>\n",
       "  <tbody>\n",
       "    <tr>\n",
       "      <th>0</th>\n",
       "      <td>1998</td>\n",
       "      <td>3102</td>\n",
       "      <td>0.166667</td>\n",
       "      <td>-20.625000</td>\n",
       "    </tr>\n",
       "    <tr>\n",
       "      <th>1</th>\n",
       "      <td>1998</td>\n",
       "      <td>3103</td>\n",
       "      <td>0.379310</td>\n",
       "      <td>-5.862069</td>\n",
       "    </tr>\n",
       "    <tr>\n",
       "      <th>2</th>\n",
       "      <td>1998</td>\n",
       "      <td>3104</td>\n",
       "      <td>0.700000</td>\n",
       "      <td>13.433333</td>\n",
       "    </tr>\n",
       "    <tr>\n",
       "      <th>3</th>\n",
       "      <td>1998</td>\n",
       "      <td>3106</td>\n",
       "      <td>0.285714</td>\n",
       "      <td>-7.952381</td>\n",
       "    </tr>\n",
       "    <tr>\n",
       "      <th>4</th>\n",
       "      <td>1998</td>\n",
       "      <td>3108</td>\n",
       "      <td>0.521739</td>\n",
       "      <td>1.304348</td>\n",
       "    </tr>\n",
       "  </tbody>\n",
       "</table>\n",
       "</div>"
      ],
      "text/plain": [
       "   Season  TeamID  WinRatio     GapAvg\n",
       "0    1998    3102  0.166667 -20.625000\n",
       "1    1998    3103  0.379310  -5.862069\n",
       "2    1998    3104  0.700000  13.433333\n",
       "3    1998    3106  0.285714  -7.952381\n",
       "4    1998    3108  0.521739   1.304348"
      ]
     },
     "execution_count": 17,
     "metadata": {},
     "output_type": "execute_result"
    }
   ],
   "source": [
    "df_features_season.head()"
   ]
  },
  {
   "cell_type": "code",
   "execution_count": 18,
   "metadata": {
    "execution": {
     "iopub.execute_input": "2021-07-19T07:03:34.012525Z",
     "iopub.status.busy": "2021-07-19T07:03:34.011884Z",
     "iopub.status.idle": "2021-07-19T07:03:34.027175Z",
     "shell.execute_reply": "2021-07-19T07:03:34.027759Z"
    },
    "papermill": {
     "duration": 0.062853,
     "end_time": "2021-07-19T07:03:34.027936",
     "exception": false,
     "start_time": "2021-07-19T07:03:33.965083",
     "status": "completed"
    },
    "tags": []
   },
   "outputs": [],
   "source": [
    "# df_tourney_results = pd.read_csv(DATA_PATH + \"MNCAATourneyCompactResults.csv\")\n",
    "df_tourney_results = pd.read_csv(DATA_PATH + \"WNCAATourneyCompactResults.csv\")\n",
    "df_tourney_results.drop(['NumOT', 'WLoc'], axis=1, inplace=True)"
   ]
  },
  {
   "cell_type": "markdown",
   "metadata": {
    "papermill": {
     "duration": 0.044073,
     "end_time": "2021-07-19T07:03:34.116085",
     "exception": false,
     "start_time": "2021-07-19T07:03:34.072012",
     "status": "completed"
    },
    "tags": []
   },
   "source": [
    "The `DayNum` features can be improved by replacing it by the corresponding round."
   ]
  },
  {
   "cell_type": "code",
   "execution_count": 19,
   "metadata": {
    "execution": {
     "iopub.execute_input": "2021-07-19T07:03:34.207171Z",
     "iopub.status.busy": "2021-07-19T07:03:34.206561Z",
     "iopub.status.idle": "2021-07-19T07:03:34.211779Z",
     "shell.execute_reply": "2021-07-19T07:03:34.212289Z"
    },
    "papermill": {
     "duration": 0.052142,
     "end_time": "2021-07-19T07:03:34.212475",
     "exception": false,
     "start_time": "2021-07-19T07:03:34.160333",
     "status": "completed"
    },
    "tags": []
   },
   "outputs": [],
   "source": [
    "def get_round(day):\n",
    "#     round_dic = {134: 0, 135: 0, 136: 1, 137: 1, 138: 2, 139: 2, 143: 3, 144: 3, 145: 4, 146: 4, 152: 5, 154: 6}\n",
    "    round_dic = {137: 0, 138: 0, 139: 1, 140: 1, 141: 2, 144: 3, 145: 3, 146: 4, 147: 4, 148: 4, 151:5, 153: 5, 155: 6} # probably wrong but I don't use it anyways\n",
    "    try:\n",
    "        return round_dic[day]\n",
    "    except:\n",
    "        print(f'Unknow day : {day}')\n",
    "        return 0"
   ]
  },
  {
   "cell_type": "code",
   "execution_count": 20,
   "metadata": {
    "execution": {
     "iopub.execute_input": "2021-07-19T07:03:34.302957Z",
     "iopub.status.busy": "2021-07-19T07:03:34.302356Z",
     "iopub.status.idle": "2021-07-19T07:03:34.308693Z",
     "shell.execute_reply": "2021-07-19T07:03:34.309279Z"
    },
    "papermill": {
     "duration": 0.053079,
     "end_time": "2021-07-19T07:03:34.309455",
     "exception": false,
     "start_time": "2021-07-19T07:03:34.256376",
     "status": "completed"
    },
    "tags": []
   },
   "outputs": [],
   "source": [
    "df_tourney_results['Round'] = df_tourney_results['DayNum'].apply(get_round)"
   ]
  },
  {
   "cell_type": "code",
   "execution_count": 21,
   "metadata": {
    "execution": {
     "iopub.execute_input": "2021-07-19T07:03:34.399931Z",
     "iopub.status.busy": "2021-07-19T07:03:34.399328Z",
     "iopub.status.idle": "2021-07-19T07:03:34.410380Z",
     "shell.execute_reply": "2021-07-19T07:03:34.409698Z"
    },
    "papermill": {
     "duration": 0.057243,
     "end_time": "2021-07-19T07:03:34.410526",
     "exception": false,
     "start_time": "2021-07-19T07:03:34.353283",
     "status": "completed"
    },
    "tags": []
   },
   "outputs": [
    {
     "data": {
      "text/html": [
       "<div>\n",
       "<style scoped>\n",
       "    .dataframe tbody tr th:only-of-type {\n",
       "        vertical-align: middle;\n",
       "    }\n",
       "\n",
       "    .dataframe tbody tr th {\n",
       "        vertical-align: top;\n",
       "    }\n",
       "\n",
       "    .dataframe thead th {\n",
       "        text-align: right;\n",
       "    }\n",
       "</style>\n",
       "<table border=\"1\" class=\"dataframe\">\n",
       "  <thead>\n",
       "    <tr style=\"text-align: right;\">\n",
       "      <th></th>\n",
       "      <th>Season</th>\n",
       "      <th>DayNum</th>\n",
       "      <th>WTeamID</th>\n",
       "      <th>WScore</th>\n",
       "      <th>LTeamID</th>\n",
       "      <th>LScore</th>\n",
       "      <th>Round</th>\n",
       "    </tr>\n",
       "  </thead>\n",
       "  <tbody>\n",
       "    <tr>\n",
       "      <th>0</th>\n",
       "      <td>1998</td>\n",
       "      <td>137</td>\n",
       "      <td>3104</td>\n",
       "      <td>94</td>\n",
       "      <td>3422</td>\n",
       "      <td>46</td>\n",
       "      <td>0</td>\n",
       "    </tr>\n",
       "    <tr>\n",
       "      <th>1</th>\n",
       "      <td>1998</td>\n",
       "      <td>137</td>\n",
       "      <td>3112</td>\n",
       "      <td>75</td>\n",
       "      <td>3365</td>\n",
       "      <td>63</td>\n",
       "      <td>0</td>\n",
       "    </tr>\n",
       "    <tr>\n",
       "      <th>2</th>\n",
       "      <td>1998</td>\n",
       "      <td>137</td>\n",
       "      <td>3163</td>\n",
       "      <td>93</td>\n",
       "      <td>3193</td>\n",
       "      <td>52</td>\n",
       "      <td>0</td>\n",
       "    </tr>\n",
       "    <tr>\n",
       "      <th>3</th>\n",
       "      <td>1998</td>\n",
       "      <td>137</td>\n",
       "      <td>3198</td>\n",
       "      <td>59</td>\n",
       "      <td>3266</td>\n",
       "      <td>45</td>\n",
       "      <td>0</td>\n",
       "    </tr>\n",
       "    <tr>\n",
       "      <th>4</th>\n",
       "      <td>1998</td>\n",
       "      <td>137</td>\n",
       "      <td>3203</td>\n",
       "      <td>74</td>\n",
       "      <td>3208</td>\n",
       "      <td>72</td>\n",
       "      <td>0</td>\n",
       "    </tr>\n",
       "  </tbody>\n",
       "</table>\n",
       "</div>"
      ],
      "text/plain": [
       "   Season  DayNum  WTeamID  WScore  LTeamID  LScore  Round\n",
       "0    1998     137     3104      94     3422      46      0\n",
       "1    1998     137     3112      75     3365      63      0\n",
       "2    1998     137     3163      93     3193      52      0\n",
       "3    1998     137     3198      59     3266      45      0\n",
       "4    1998     137     3203      74     3208      72      0"
      ]
     },
     "execution_count": 21,
     "metadata": {},
     "output_type": "execute_result"
    }
   ],
   "source": [
    "df_tourney_results.head()"
   ]
  },
  {
   "cell_type": "markdown",
   "metadata": {
    "papermill": {
     "duration": 0.044199,
     "end_time": "2021-07-19T07:03:34.499459",
     "exception": false,
     "start_time": "2021-07-19T07:03:34.455260",
     "status": "completed"
    },
    "tags": []
   },
   "source": [
    "# Feature Engineering"
   ]
  },
  {
   "cell_type": "markdown",
   "metadata": {
    "papermill": {
     "duration": 0.044826,
     "end_time": "2021-07-19T07:03:34.589406",
     "exception": false,
     "start_time": "2021-07-19T07:03:34.544580",
     "status": "completed"
    },
    "tags": []
   },
   "source": [
    "## Train data"
   ]
  },
  {
   "cell_type": "code",
   "execution_count": 22,
   "metadata": {
    "execution": {
     "iopub.execute_input": "2021-07-19T07:03:34.689886Z",
     "iopub.status.busy": "2021-07-19T07:03:34.688871Z",
     "iopub.status.idle": "2021-07-19T07:03:34.692701Z",
     "shell.execute_reply": "2021-07-19T07:03:34.693186Z"
    },
    "papermill": {
     "duration": 0.05906,
     "end_time": "2021-07-19T07:03:34.693372",
     "exception": false,
     "start_time": "2021-07-19T07:03:34.634312",
     "status": "completed"
    },
    "tags": []
   },
   "outputs": [
    {
     "data": {
      "text/html": [
       "<div>\n",
       "<style scoped>\n",
       "    .dataframe tbody tr th:only-of-type {\n",
       "        vertical-align: middle;\n",
       "    }\n",
       "\n",
       "    .dataframe tbody tr th {\n",
       "        vertical-align: top;\n",
       "    }\n",
       "\n",
       "    .dataframe thead th {\n",
       "        text-align: right;\n",
       "    }\n",
       "</style>\n",
       "<table border=\"1\" class=\"dataframe\">\n",
       "  <thead>\n",
       "    <tr style=\"text-align: right;\">\n",
       "      <th></th>\n",
       "      <th>Season</th>\n",
       "      <th>DayNum</th>\n",
       "      <th>WTeamID</th>\n",
       "      <th>WScore</th>\n",
       "      <th>LTeamID</th>\n",
       "      <th>LScore</th>\n",
       "      <th>Round</th>\n",
       "    </tr>\n",
       "  </thead>\n",
       "  <tbody>\n",
       "    <tr>\n",
       "      <th>0</th>\n",
       "      <td>1998</td>\n",
       "      <td>137</td>\n",
       "      <td>3104</td>\n",
       "      <td>94</td>\n",
       "      <td>3422</td>\n",
       "      <td>46</td>\n",
       "      <td>0</td>\n",
       "    </tr>\n",
       "    <tr>\n",
       "      <th>1</th>\n",
       "      <td>1998</td>\n",
       "      <td>137</td>\n",
       "      <td>3112</td>\n",
       "      <td>75</td>\n",
       "      <td>3365</td>\n",
       "      <td>63</td>\n",
       "      <td>0</td>\n",
       "    </tr>\n",
       "    <tr>\n",
       "      <th>2</th>\n",
       "      <td>1998</td>\n",
       "      <td>137</td>\n",
       "      <td>3163</td>\n",
       "      <td>93</td>\n",
       "      <td>3193</td>\n",
       "      <td>52</td>\n",
       "      <td>0</td>\n",
       "    </tr>\n",
       "    <tr>\n",
       "      <th>3</th>\n",
       "      <td>1998</td>\n",
       "      <td>137</td>\n",
       "      <td>3198</td>\n",
       "      <td>59</td>\n",
       "      <td>3266</td>\n",
       "      <td>45</td>\n",
       "      <td>0</td>\n",
       "    </tr>\n",
       "    <tr>\n",
       "      <th>4</th>\n",
       "      <td>1998</td>\n",
       "      <td>137</td>\n",
       "      <td>3203</td>\n",
       "      <td>74</td>\n",
       "      <td>3208</td>\n",
       "      <td>72</td>\n",
       "      <td>0</td>\n",
       "    </tr>\n",
       "  </tbody>\n",
       "</table>\n",
       "</div>"
      ],
      "text/plain": [
       "   Season  DayNum  WTeamID  WScore  LTeamID  LScore  Round\n",
       "0    1998     137     3104      94     3422      46      0\n",
       "1    1998     137     3112      75     3365      63      0\n",
       "2    1998     137     3163      93     3193      52      0\n",
       "3    1998     137     3198      59     3266      45      0\n",
       "4    1998     137     3203      74     3208      72      0"
      ]
     },
     "execution_count": 22,
     "metadata": {},
     "output_type": "execute_result"
    }
   ],
   "source": [
    "df = df_tourney_results.copy()\n",
    "\n",
    "df.head()"
   ]
  },
  {
   "cell_type": "markdown",
   "metadata": {
    "papermill": {
     "duration": 0.044791,
     "end_time": "2021-07-19T07:03:34.783302",
     "exception": false,
     "start_time": "2021-07-19T07:03:34.738511",
     "status": "completed"
    },
    "tags": []
   },
   "source": [
    "- Each row corresponds to a match between `WTeamID` and `LTeamID`, which was won by `WTeamID`. \n",
    "- I only keep matches after 2003 since I don't have the ratings for the older ones.\n",
    "- I start by aggregating features coresponding to each tem."
   ]
  },
  {
   "cell_type": "markdown",
   "metadata": {
    "papermill": {
     "duration": 0.044797,
     "end_time": "2021-07-19T07:03:34.873732",
     "exception": false,
     "start_time": "2021-07-19T07:03:34.828935",
     "status": "completed"
    },
    "tags": []
   },
   "source": [
    "### Seeds\n",
    "- `SeedW` is the seed of the winning team\n",
    "- `SeedL` is the seed of the losing team"
   ]
  },
  {
   "cell_type": "code",
   "execution_count": 23,
   "metadata": {
    "execution": {
     "iopub.execute_input": "2021-07-19T07:03:34.970832Z",
     "iopub.status.busy": "2021-07-19T07:03:34.969840Z",
     "iopub.status.idle": "2021-07-19T07:03:34.980158Z",
     "shell.execute_reply": "2021-07-19T07:03:34.980686Z"
    },
    "papermill": {
     "duration": 0.059088,
     "end_time": "2021-07-19T07:03:34.980869",
     "exception": false,
     "start_time": "2021-07-19T07:03:34.921781",
     "status": "completed"
    },
    "tags": []
   },
   "outputs": [],
   "source": [
    "df = pd.merge(\n",
    "    df, \n",
    "    df_seeds, \n",
    "    how='left', \n",
    "    left_on=['Season', 'WTeamID'], \n",
    "    right_on=['Season', 'TeamID']\n",
    ").drop('TeamID', axis=1).rename(columns={'Seed': 'SeedW'})"
   ]
  },
  {
   "cell_type": "code",
   "execution_count": 24,
   "metadata": {
    "execution": {
     "iopub.execute_input": "2021-07-19T07:03:35.079351Z",
     "iopub.status.busy": "2021-07-19T07:03:35.078320Z",
     "iopub.status.idle": "2021-07-19T07:03:35.086250Z",
     "shell.execute_reply": "2021-07-19T07:03:35.085604Z"
    },
    "papermill": {
     "duration": 0.060273,
     "end_time": "2021-07-19T07:03:35.086401",
     "exception": false,
     "start_time": "2021-07-19T07:03:35.026128",
     "status": "completed"
    },
    "tags": []
   },
   "outputs": [],
   "source": [
    "df = pd.merge(\n",
    "    df, \n",
    "    df_seeds, \n",
    "    how='left', \n",
    "    left_on=['Season', 'LTeamID'], \n",
    "    right_on=['Season', 'TeamID']\n",
    ").drop('TeamID', axis=1).rename(columns={'Seed': 'SeedL'})"
   ]
  },
  {
   "cell_type": "code",
   "execution_count": 25,
   "metadata": {
    "execution": {
     "iopub.execute_input": "2021-07-19T07:03:35.181806Z",
     "iopub.status.busy": "2021-07-19T07:03:35.181011Z",
     "iopub.status.idle": "2021-07-19T07:03:35.184146Z",
     "shell.execute_reply": "2021-07-19T07:03:35.184634Z"
    },
    "papermill": {
     "duration": 0.053161,
     "end_time": "2021-07-19T07:03:35.184809",
     "exception": false,
     "start_time": "2021-07-19T07:03:35.131648",
     "status": "completed"
    },
    "tags": []
   },
   "outputs": [],
   "source": [
    "def treat_seed(seed):\n",
    "    return int(re.sub(\"[^0-9]\", \"\", seed))"
   ]
  },
  {
   "cell_type": "code",
   "execution_count": 26,
   "metadata": {
    "execution": {
     "iopub.execute_input": "2021-07-19T07:03:35.279587Z",
     "iopub.status.busy": "2021-07-19T07:03:35.278639Z",
     "iopub.status.idle": "2021-07-19T07:03:35.291732Z",
     "shell.execute_reply": "2021-07-19T07:03:35.292257Z"
    },
    "papermill": {
     "duration": 0.061891,
     "end_time": "2021-07-19T07:03:35.292430",
     "exception": false,
     "start_time": "2021-07-19T07:03:35.230539",
     "status": "completed"
    },
    "tags": []
   },
   "outputs": [],
   "source": [
    "df['SeedW'] = df['SeedW'].apply(treat_seed)\n",
    "df['SeedL'] = df['SeedL'].apply(treat_seed)"
   ]
  },
  {
   "cell_type": "code",
   "execution_count": 27,
   "metadata": {
    "execution": {
     "iopub.execute_input": "2021-07-19T07:03:35.386984Z",
     "iopub.status.busy": "2021-07-19T07:03:35.386061Z",
     "iopub.status.idle": "2021-07-19T07:03:35.397811Z",
     "shell.execute_reply": "2021-07-19T07:03:35.398502Z"
    },
    "papermill": {
     "duration": 0.060867,
     "end_time": "2021-07-19T07:03:35.398726",
     "exception": false,
     "start_time": "2021-07-19T07:03:35.337859",
     "status": "completed"
    },
    "tags": []
   },
   "outputs": [
    {
     "data": {
      "text/html": [
       "<div>\n",
       "<style scoped>\n",
       "    .dataframe tbody tr th:only-of-type {\n",
       "        vertical-align: middle;\n",
       "    }\n",
       "\n",
       "    .dataframe tbody tr th {\n",
       "        vertical-align: top;\n",
       "    }\n",
       "\n",
       "    .dataframe thead th {\n",
       "        text-align: right;\n",
       "    }\n",
       "</style>\n",
       "<table border=\"1\" class=\"dataframe\">\n",
       "  <thead>\n",
       "    <tr style=\"text-align: right;\">\n",
       "      <th></th>\n",
       "      <th>Season</th>\n",
       "      <th>DayNum</th>\n",
       "      <th>WTeamID</th>\n",
       "      <th>WScore</th>\n",
       "      <th>LTeamID</th>\n",
       "      <th>LScore</th>\n",
       "      <th>Round</th>\n",
       "      <th>SeedW</th>\n",
       "      <th>SeedL</th>\n",
       "    </tr>\n",
       "  </thead>\n",
       "  <tbody>\n",
       "    <tr>\n",
       "      <th>0</th>\n",
       "      <td>1998</td>\n",
       "      <td>137</td>\n",
       "      <td>3104</td>\n",
       "      <td>94</td>\n",
       "      <td>3422</td>\n",
       "      <td>46</td>\n",
       "      <td>0</td>\n",
       "      <td>2</td>\n",
       "      <td>15</td>\n",
       "    </tr>\n",
       "    <tr>\n",
       "      <th>1</th>\n",
       "      <td>1998</td>\n",
       "      <td>137</td>\n",
       "      <td>3112</td>\n",
       "      <td>75</td>\n",
       "      <td>3365</td>\n",
       "      <td>63</td>\n",
       "      <td>0</td>\n",
       "      <td>3</td>\n",
       "      <td>14</td>\n",
       "    </tr>\n",
       "    <tr>\n",
       "      <th>2</th>\n",
       "      <td>1998</td>\n",
       "      <td>137</td>\n",
       "      <td>3163</td>\n",
       "      <td>93</td>\n",
       "      <td>3193</td>\n",
       "      <td>52</td>\n",
       "      <td>0</td>\n",
       "      <td>2</td>\n",
       "      <td>15</td>\n",
       "    </tr>\n",
       "    <tr>\n",
       "      <th>3</th>\n",
       "      <td>1998</td>\n",
       "      <td>137</td>\n",
       "      <td>3198</td>\n",
       "      <td>59</td>\n",
       "      <td>3266</td>\n",
       "      <td>45</td>\n",
       "      <td>0</td>\n",
       "      <td>7</td>\n",
       "      <td>10</td>\n",
       "    </tr>\n",
       "    <tr>\n",
       "      <th>4</th>\n",
       "      <td>1998</td>\n",
       "      <td>137</td>\n",
       "      <td>3203</td>\n",
       "      <td>74</td>\n",
       "      <td>3208</td>\n",
       "      <td>72</td>\n",
       "      <td>0</td>\n",
       "      <td>10</td>\n",
       "      <td>7</td>\n",
       "    </tr>\n",
       "  </tbody>\n",
       "</table>\n",
       "</div>"
      ],
      "text/plain": [
       "   Season  DayNum  WTeamID  WScore  LTeamID  LScore  Round  SeedW  SeedL\n",
       "0    1998     137     3104      94     3422      46      0      2     15\n",
       "1    1998     137     3112      75     3365      63      0      3     14\n",
       "2    1998     137     3163      93     3193      52      0      2     15\n",
       "3    1998     137     3198      59     3266      45      0      7     10\n",
       "4    1998     137     3203      74     3208      72      0     10      7"
      ]
     },
     "execution_count": 27,
     "metadata": {},
     "output_type": "execute_result"
    }
   ],
   "source": [
    "df.head()"
   ]
  },
  {
   "cell_type": "markdown",
   "metadata": {
    "papermill": {
     "duration": 0.046515,
     "end_time": "2021-07-19T07:03:35.491987",
     "exception": false,
     "start_time": "2021-07-19T07:03:35.445472",
     "status": "completed"
    },
    "tags": []
   },
   "source": [
    "### Season Stats\n",
    "- `WinRatioW` is the win ratio of the winning team during the season\n",
    "- `WinRatioL` is the win ratio of the losing team during the season"
   ]
  },
  {
   "cell_type": "code",
   "execution_count": 28,
   "metadata": {
    "execution": {
     "iopub.execute_input": "2021-07-19T07:03:35.588155Z",
     "iopub.status.busy": "2021-07-19T07:03:35.587205Z",
     "iopub.status.idle": "2021-07-19T07:03:35.598544Z",
     "shell.execute_reply": "2021-07-19T07:03:35.599005Z"
    },
    "papermill": {
     "duration": 0.060778,
     "end_time": "2021-07-19T07:03:35.599181",
     "exception": false,
     "start_time": "2021-07-19T07:03:35.538403",
     "status": "completed"
    },
    "tags": []
   },
   "outputs": [],
   "source": [
    "df = pd.merge(\n",
    "    df,\n",
    "    df_features_season,\n",
    "    how='left',\n",
    "    left_on=['Season', 'WTeamID'],\n",
    "    right_on=['Season', 'TeamID']\n",
    ").rename(columns={\n",
    "    'NumWins': 'NumWinsW',\n",
    "    'NumLosses': 'NumLossesW',\n",
    "    'GapWins': 'GapWinsW',\n",
    "    'GapLosses': 'GapLossesW',\n",
    "    'WinRatio': 'WinRatioW',\n",
    "    'GapAvg': 'GapAvgW',\n",
    "}).drop(columns='TeamID', axis=1)"
   ]
  },
  {
   "cell_type": "code",
   "execution_count": 29,
   "metadata": {
    "execution": {
     "iopub.execute_input": "2021-07-19T07:03:35.695128Z",
     "iopub.status.busy": "2021-07-19T07:03:35.694196Z",
     "iopub.status.idle": "2021-07-19T07:03:35.705421Z",
     "shell.execute_reply": "2021-07-19T07:03:35.705908Z"
    },
    "papermill": {
     "duration": 0.060735,
     "end_time": "2021-07-19T07:03:35.706082",
     "exception": false,
     "start_time": "2021-07-19T07:03:35.645347",
     "status": "completed"
    },
    "tags": []
   },
   "outputs": [],
   "source": [
    "df = pd.merge(\n",
    "    df,\n",
    "    df_features_season,\n",
    "    how='left',\n",
    "    left_on=['Season', 'LTeamID'],\n",
    "    right_on=['Season', 'TeamID']\n",
    ").rename(columns={\n",
    "    'NumWins': 'NumWinsL',\n",
    "    'NumLosses': 'NumLossesL',\n",
    "    'GapWins': 'GapWinsL',\n",
    "    'GapLosses': 'GapLossesL',\n",
    "    'WinRatio': 'WinRatioL',\n",
    "    'GapAvg': 'GapAvgL',\n",
    "}).drop(columns='TeamID', axis=1)"
   ]
  },
  {
   "cell_type": "code",
   "execution_count": 30,
   "metadata": {
    "execution": {
     "iopub.execute_input": "2021-07-19T07:03:35.804253Z",
     "iopub.status.busy": "2021-07-19T07:03:35.803325Z",
     "iopub.status.idle": "2021-07-19T07:03:35.818192Z",
     "shell.execute_reply": "2021-07-19T07:03:35.818726Z"
    },
    "papermill": {
     "duration": 0.066228,
     "end_time": "2021-07-19T07:03:35.818901",
     "exception": false,
     "start_time": "2021-07-19T07:03:35.752673",
     "status": "completed"
    },
    "tags": []
   },
   "outputs": [
    {
     "data": {
      "text/html": [
       "<div>\n",
       "<style scoped>\n",
       "    .dataframe tbody tr th:only-of-type {\n",
       "        vertical-align: middle;\n",
       "    }\n",
       "\n",
       "    .dataframe tbody tr th {\n",
       "        vertical-align: top;\n",
       "    }\n",
       "\n",
       "    .dataframe thead th {\n",
       "        text-align: right;\n",
       "    }\n",
       "</style>\n",
       "<table border=\"1\" class=\"dataframe\">\n",
       "  <thead>\n",
       "    <tr style=\"text-align: right;\">\n",
       "      <th></th>\n",
       "      <th>Season</th>\n",
       "      <th>DayNum</th>\n",
       "      <th>WTeamID</th>\n",
       "      <th>WScore</th>\n",
       "      <th>LTeamID</th>\n",
       "      <th>LScore</th>\n",
       "      <th>Round</th>\n",
       "      <th>SeedW</th>\n",
       "      <th>SeedL</th>\n",
       "      <th>WinRatioW</th>\n",
       "      <th>GapAvgW</th>\n",
       "      <th>WinRatioL</th>\n",
       "      <th>GapAvgL</th>\n",
       "    </tr>\n",
       "  </thead>\n",
       "  <tbody>\n",
       "    <tr>\n",
       "      <th>0</th>\n",
       "      <td>1998</td>\n",
       "      <td>137</td>\n",
       "      <td>3104</td>\n",
       "      <td>94</td>\n",
       "      <td>3422</td>\n",
       "      <td>46</td>\n",
       "      <td>0</td>\n",
       "      <td>2</td>\n",
       "      <td>15</td>\n",
       "      <td>0.700000</td>\n",
       "      <td>13.433333</td>\n",
       "      <td>0.703704</td>\n",
       "      <td>6.111111</td>\n",
       "    </tr>\n",
       "    <tr>\n",
       "      <th>1</th>\n",
       "      <td>1998</td>\n",
       "      <td>137</td>\n",
       "      <td>3112</td>\n",
       "      <td>75</td>\n",
       "      <td>3365</td>\n",
       "      <td>63</td>\n",
       "      <td>0</td>\n",
       "      <td>3</td>\n",
       "      <td>14</td>\n",
       "      <td>0.777778</td>\n",
       "      <td>12.407407</td>\n",
       "      <td>0.785714</td>\n",
       "      <td>17.821429</td>\n",
       "    </tr>\n",
       "    <tr>\n",
       "      <th>2</th>\n",
       "      <td>1998</td>\n",
       "      <td>137</td>\n",
       "      <td>3163</td>\n",
       "      <td>93</td>\n",
       "      <td>3193</td>\n",
       "      <td>52</td>\n",
       "      <td>0</td>\n",
       "      <td>2</td>\n",
       "      <td>15</td>\n",
       "      <td>0.937500</td>\n",
       "      <td>24.875000</td>\n",
       "      <td>0.714286</td>\n",
       "      <td>5.071429</td>\n",
       "    </tr>\n",
       "    <tr>\n",
       "      <th>3</th>\n",
       "      <td>1998</td>\n",
       "      <td>137</td>\n",
       "      <td>3198</td>\n",
       "      <td>59</td>\n",
       "      <td>3266</td>\n",
       "      <td>45</td>\n",
       "      <td>0</td>\n",
       "      <td>7</td>\n",
       "      <td>10</td>\n",
       "      <td>0.965517</td>\n",
       "      <td>25.103448</td>\n",
       "      <td>0.769231</td>\n",
       "      <td>9.538462</td>\n",
       "    </tr>\n",
       "    <tr>\n",
       "      <th>4</th>\n",
       "      <td>1998</td>\n",
       "      <td>137</td>\n",
       "      <td>3203</td>\n",
       "      <td>74</td>\n",
       "      <td>3208</td>\n",
       "      <td>72</td>\n",
       "      <td>0</td>\n",
       "      <td>10</td>\n",
       "      <td>7</td>\n",
       "      <td>0.653846</td>\n",
       "      <td>9.653846</td>\n",
       "      <td>0.653846</td>\n",
       "      <td>4.730769</td>\n",
       "    </tr>\n",
       "  </tbody>\n",
       "</table>\n",
       "</div>"
      ],
      "text/plain": [
       "   Season  DayNum  WTeamID  WScore  LTeamID  LScore  Round  SeedW  SeedL  \\\n",
       "0    1998     137     3104      94     3422      46      0      2     15   \n",
       "1    1998     137     3112      75     3365      63      0      3     14   \n",
       "2    1998     137     3163      93     3193      52      0      2     15   \n",
       "3    1998     137     3198      59     3266      45      0      7     10   \n",
       "4    1998     137     3203      74     3208      72      0     10      7   \n",
       "\n",
       "   WinRatioW    GapAvgW  WinRatioL    GapAvgL  \n",
       "0   0.700000  13.433333   0.703704   6.111111  \n",
       "1   0.777778  12.407407   0.785714  17.821429  \n",
       "2   0.937500  24.875000   0.714286   5.071429  \n",
       "3   0.965517  25.103448   0.769231   9.538462  \n",
       "4   0.653846   9.653846   0.653846   4.730769  "
      ]
     },
     "execution_count": 30,
     "metadata": {},
     "output_type": "execute_result"
    }
   ],
   "source": [
    "df.head()"
   ]
  },
  {
   "cell_type": "markdown",
   "metadata": {
    "papermill": {
     "duration": 0.047641,
     "end_time": "2021-07-19T07:03:35.913904",
     "exception": false,
     "start_time": "2021-07-19T07:03:35.866263",
     "status": "completed"
    },
    "tags": []
   },
   "source": [
    "### Add symetrical\n",
    "- Right now our data only consists of won matches\n",
    "- We duplicate our data, get rid of the winner loser "
   ]
  },
  {
   "cell_type": "code",
   "execution_count": 31,
   "metadata": {
    "execution": {
     "iopub.execute_input": "2021-07-19T07:03:36.013928Z",
     "iopub.status.busy": "2021-07-19T07:03:36.012933Z",
     "iopub.status.idle": "2021-07-19T07:03:36.020338Z",
     "shell.execute_reply": "2021-07-19T07:03:36.020792Z"
    },
    "papermill": {
     "duration": 0.058982,
     "end_time": "2021-07-19T07:03:36.020971",
     "exception": false,
     "start_time": "2021-07-19T07:03:35.961989",
     "status": "completed"
    },
    "tags": []
   },
   "outputs": [],
   "source": [
    "def add_loosing_matches(win_df):\n",
    "    win_rename = {\n",
    "        \"WTeamID\": \"TeamIdA\", \n",
    "        \"WScore\" : \"ScoreA\", \n",
    "        \"LTeamID\" : \"TeamIdB\",\n",
    "        \"LScore\": \"ScoreB\",\n",
    "        \"SeedW\": \"SeedA\", \n",
    "        \"SeedL\": \"SeedB\",\n",
    "        'WinRatioW' : 'WinRatioA',\n",
    "        'WinRatioL' : 'WinRatioB',\n",
    "        'GapAvgW' : 'GapAvgA',\n",
    "        'GapAvgL' : 'GapAvgB'\n",
    "     }\n",
    "    \n",
    "    lose_rename = {\n",
    "        \"WTeamID\": \"TeamIdB\", \n",
    "        \"WScore\" : \"ScoreB\", \n",
    "        \"LTeamID\" : \"TeamIdA\",\n",
    "        \"LScore\": \"ScoreA\",\n",
    "        \"SeedW\": \"SeedB\", \n",
    "        \"SeedL\": \"SeedA\",\n",
    "        'GapAvgW' : 'GapAvgB',\n",
    "        'GapAvgL' : 'GapAvgA',\n",
    "        'WinRatioW' : 'WinRatioB',\n",
    "        'WinRatioL' : 'WinRatioA'\n",
    "    }\n",
    "    \n",
    "    win_df = win_df.copy()\n",
    "    lose_df = win_df.copy()\n",
    "    \n",
    "    win_df = win_df.rename(columns=win_rename)\n",
    "    lose_df = lose_df.rename(columns=lose_rename)\n",
    "    \n",
    "    return pd.concat([win_df, lose_df], 0, sort=False)"
   ]
  },
  {
   "cell_type": "code",
   "execution_count": 32,
   "metadata": {
    "execution": {
     "iopub.execute_input": "2021-07-19T07:03:36.121095Z",
     "iopub.status.busy": "2021-07-19T07:03:36.120099Z",
     "iopub.status.idle": "2021-07-19T07:03:36.127779Z",
     "shell.execute_reply": "2021-07-19T07:03:36.127128Z"
    },
    "papermill": {
     "duration": 0.05952,
     "end_time": "2021-07-19T07:03:36.127953",
     "exception": false,
     "start_time": "2021-07-19T07:03:36.068433",
     "status": "completed"
    },
    "tags": []
   },
   "outputs": [],
   "source": [
    "df = add_loosing_matches(df)"
   ]
  },
  {
   "cell_type": "markdown",
   "metadata": {
    "papermill": {
     "duration": 0.046922,
     "end_time": "2021-07-19T07:03:36.222697",
     "exception": false,
     "start_time": "2021-07-19T07:03:36.175775",
     "status": "completed"
    },
    "tags": []
   },
   "source": [
    "### Differences\n",
    "- We compute the difference between the team for each feature.\n",
    "- This helps further assessing how better (or worse) team A is from team B"
   ]
  },
  {
   "cell_type": "code",
   "execution_count": 33,
   "metadata": {
    "execution": {
     "iopub.execute_input": "2021-07-19T07:03:36.326471Z",
     "iopub.status.busy": "2021-07-19T07:03:36.325825Z",
     "iopub.status.idle": "2021-07-19T07:03:36.329136Z",
     "shell.execute_reply": "2021-07-19T07:03:36.328578Z"
    },
    "papermill": {
     "duration": 0.058747,
     "end_time": "2021-07-19T07:03:36.329292",
     "exception": false,
     "start_time": "2021-07-19T07:03:36.270545",
     "status": "completed"
    },
    "tags": []
   },
   "outputs": [],
   "source": [
    "df['SeedDiff'] = df['SeedA'] - df['SeedB']\n",
    "df['WinRatioDiff'] = df['WinRatioA'] - df['WinRatioB']\n",
    "df['GapAvgDiff'] = df['GapAvgA'] - df['GapAvgB']"
   ]
  },
  {
   "cell_type": "code",
   "execution_count": 34,
   "metadata": {
    "execution": {
     "iopub.execute_input": "2021-07-19T07:03:36.428026Z",
     "iopub.status.busy": "2021-07-19T07:03:36.427404Z",
     "iopub.status.idle": "2021-07-19T07:03:36.443440Z",
     "shell.execute_reply": "2021-07-19T07:03:36.443973Z"
    },
    "papermill": {
     "duration": 0.066748,
     "end_time": "2021-07-19T07:03:36.444139",
     "exception": false,
     "start_time": "2021-07-19T07:03:36.377391",
     "status": "completed"
    },
    "tags": []
   },
   "outputs": [
    {
     "data": {
      "text/html": [
       "<div>\n",
       "<style scoped>\n",
       "    .dataframe tbody tr th:only-of-type {\n",
       "        vertical-align: middle;\n",
       "    }\n",
       "\n",
       "    .dataframe tbody tr th {\n",
       "        vertical-align: top;\n",
       "    }\n",
       "\n",
       "    .dataframe thead th {\n",
       "        text-align: right;\n",
       "    }\n",
       "</style>\n",
       "<table border=\"1\" class=\"dataframe\">\n",
       "  <thead>\n",
       "    <tr style=\"text-align: right;\">\n",
       "      <th></th>\n",
       "      <th>Season</th>\n",
       "      <th>DayNum</th>\n",
       "      <th>TeamIdA</th>\n",
       "      <th>ScoreA</th>\n",
       "      <th>TeamIdB</th>\n",
       "      <th>ScoreB</th>\n",
       "      <th>Round</th>\n",
       "      <th>SeedA</th>\n",
       "      <th>SeedB</th>\n",
       "      <th>WinRatioA</th>\n",
       "      <th>GapAvgA</th>\n",
       "      <th>WinRatioB</th>\n",
       "      <th>GapAvgB</th>\n",
       "      <th>SeedDiff</th>\n",
       "      <th>WinRatioDiff</th>\n",
       "      <th>GapAvgDiff</th>\n",
       "    </tr>\n",
       "  </thead>\n",
       "  <tbody>\n",
       "    <tr>\n",
       "      <th>0</th>\n",
       "      <td>1998</td>\n",
       "      <td>137</td>\n",
       "      <td>3104</td>\n",
       "      <td>94</td>\n",
       "      <td>3422</td>\n",
       "      <td>46</td>\n",
       "      <td>0</td>\n",
       "      <td>2</td>\n",
       "      <td>15</td>\n",
       "      <td>0.700000</td>\n",
       "      <td>13.433333</td>\n",
       "      <td>0.703704</td>\n",
       "      <td>6.111111</td>\n",
       "      <td>-13</td>\n",
       "      <td>-0.003704</td>\n",
       "      <td>7.322222</td>\n",
       "    </tr>\n",
       "    <tr>\n",
       "      <th>1</th>\n",
       "      <td>1998</td>\n",
       "      <td>137</td>\n",
       "      <td>3112</td>\n",
       "      <td>75</td>\n",
       "      <td>3365</td>\n",
       "      <td>63</td>\n",
       "      <td>0</td>\n",
       "      <td>3</td>\n",
       "      <td>14</td>\n",
       "      <td>0.777778</td>\n",
       "      <td>12.407407</td>\n",
       "      <td>0.785714</td>\n",
       "      <td>17.821429</td>\n",
       "      <td>-11</td>\n",
       "      <td>-0.007937</td>\n",
       "      <td>-5.414021</td>\n",
       "    </tr>\n",
       "    <tr>\n",
       "      <th>2</th>\n",
       "      <td>1998</td>\n",
       "      <td>137</td>\n",
       "      <td>3163</td>\n",
       "      <td>93</td>\n",
       "      <td>3193</td>\n",
       "      <td>52</td>\n",
       "      <td>0</td>\n",
       "      <td>2</td>\n",
       "      <td>15</td>\n",
       "      <td>0.937500</td>\n",
       "      <td>24.875000</td>\n",
       "      <td>0.714286</td>\n",
       "      <td>5.071429</td>\n",
       "      <td>-13</td>\n",
       "      <td>0.223214</td>\n",
       "      <td>19.803571</td>\n",
       "    </tr>\n",
       "    <tr>\n",
       "      <th>3</th>\n",
       "      <td>1998</td>\n",
       "      <td>137</td>\n",
       "      <td>3198</td>\n",
       "      <td>59</td>\n",
       "      <td>3266</td>\n",
       "      <td>45</td>\n",
       "      <td>0</td>\n",
       "      <td>7</td>\n",
       "      <td>10</td>\n",
       "      <td>0.965517</td>\n",
       "      <td>25.103448</td>\n",
       "      <td>0.769231</td>\n",
       "      <td>9.538462</td>\n",
       "      <td>-3</td>\n",
       "      <td>0.196286</td>\n",
       "      <td>15.564987</td>\n",
       "    </tr>\n",
       "    <tr>\n",
       "      <th>4</th>\n",
       "      <td>1998</td>\n",
       "      <td>137</td>\n",
       "      <td>3203</td>\n",
       "      <td>74</td>\n",
       "      <td>3208</td>\n",
       "      <td>72</td>\n",
       "      <td>0</td>\n",
       "      <td>10</td>\n",
       "      <td>7</td>\n",
       "      <td>0.653846</td>\n",
       "      <td>9.653846</td>\n",
       "      <td>0.653846</td>\n",
       "      <td>4.730769</td>\n",
       "      <td>3</td>\n",
       "      <td>0.000000</td>\n",
       "      <td>4.923077</td>\n",
       "    </tr>\n",
       "  </tbody>\n",
       "</table>\n",
       "</div>"
      ],
      "text/plain": [
       "   Season  DayNum  TeamIdA  ScoreA  TeamIdB  ScoreB  Round  SeedA  SeedB  \\\n",
       "0    1998     137     3104      94     3422      46      0      2     15   \n",
       "1    1998     137     3112      75     3365      63      0      3     14   \n",
       "2    1998     137     3163      93     3193      52      0      2     15   \n",
       "3    1998     137     3198      59     3266      45      0      7     10   \n",
       "4    1998     137     3203      74     3208      72      0     10      7   \n",
       "\n",
       "   WinRatioA    GapAvgA  WinRatioB    GapAvgB  SeedDiff  WinRatioDiff  \\\n",
       "0   0.700000  13.433333   0.703704   6.111111       -13     -0.003704   \n",
       "1   0.777778  12.407407   0.785714  17.821429       -11     -0.007937   \n",
       "2   0.937500  24.875000   0.714286   5.071429       -13      0.223214   \n",
       "3   0.965517  25.103448   0.769231   9.538462        -3      0.196286   \n",
       "4   0.653846   9.653846   0.653846   4.730769         3      0.000000   \n",
       "\n",
       "   GapAvgDiff  \n",
       "0    7.322222  \n",
       "1   -5.414021  \n",
       "2   19.803571  \n",
       "3   15.564987  \n",
       "4    4.923077  "
      ]
     },
     "execution_count": 34,
     "metadata": {},
     "output_type": "execute_result"
    }
   ],
   "source": [
    "df.head()"
   ]
  },
  {
   "cell_type": "markdown",
   "metadata": {
    "papermill": {
     "duration": 0.047599,
     "end_time": "2021-07-19T07:03:36.539868",
     "exception": false,
     "start_time": "2021-07-19T07:03:36.492269",
     "status": "completed"
    },
    "tags": []
   },
   "source": [
    "## Test Data"
   ]
  },
  {
   "cell_type": "markdown",
   "metadata": {
    "papermill": {
     "duration": 0.047857,
     "end_time": "2021-07-19T07:03:36.635596",
     "exception": false,
     "start_time": "2021-07-19T07:03:36.587739",
     "status": "completed"
    },
    "tags": []
   },
   "source": [
    "### Preparation"
   ]
  },
  {
   "cell_type": "code",
   "execution_count": 35,
   "metadata": {
    "execution": {
     "iopub.execute_input": "2021-07-19T07:03:36.735153Z",
     "iopub.status.busy": "2021-07-19T07:03:36.734555Z",
     "iopub.status.idle": "2021-07-19T07:03:36.748573Z",
     "shell.execute_reply": "2021-07-19T07:03:36.749102Z"
    },
    "papermill": {
     "duration": 0.065592,
     "end_time": "2021-07-19T07:03:36.749303",
     "exception": false,
     "start_time": "2021-07-19T07:03:36.683711",
     "status": "completed"
    },
    "tags": []
   },
   "outputs": [],
   "source": [
    "df_test = pd.read_csv(DATA_PATH + \"WSampleSubmissionStage2.csv\")"
   ]
  },
  {
   "cell_type": "code",
   "execution_count": 36,
   "metadata": {
    "execution": {
     "iopub.execute_input": "2021-07-19T07:03:36.849885Z",
     "iopub.status.busy": "2021-07-19T07:03:36.849266Z",
     "iopub.status.idle": "2021-07-19T07:03:36.865278Z",
     "shell.execute_reply": "2021-07-19T07:03:36.864666Z"
    },
    "papermill": {
     "duration": 0.067459,
     "end_time": "2021-07-19T07:03:36.865426",
     "exception": false,
     "start_time": "2021-07-19T07:03:36.797967",
     "status": "completed"
    },
    "tags": []
   },
   "outputs": [],
   "source": [
    "df_test['Season'] = df_test['ID'].apply(lambda x: int(x.split('_')[0]))\n",
    "df_test['TeamIdA'] = df_test['ID'].apply(lambda x: int(x.split('_')[1]))\n",
    "df_test['TeamIdB'] = df_test['ID'].apply(lambda x: int(x.split('_')[2]))"
   ]
  },
  {
   "cell_type": "code",
   "execution_count": 37,
   "metadata": {
    "execution": {
     "iopub.execute_input": "2021-07-19T07:03:36.967040Z",
     "iopub.status.busy": "2021-07-19T07:03:36.966401Z",
     "iopub.status.idle": "2021-07-19T07:03:36.976691Z",
     "shell.execute_reply": "2021-07-19T07:03:36.977172Z"
    },
    "papermill": {
     "duration": 0.062974,
     "end_time": "2021-07-19T07:03:36.977369",
     "exception": false,
     "start_time": "2021-07-19T07:03:36.914395",
     "status": "completed"
    },
    "tags": []
   },
   "outputs": [
    {
     "data": {
      "text/html": [
       "<div>\n",
       "<style scoped>\n",
       "    .dataframe tbody tr th:only-of-type {\n",
       "        vertical-align: middle;\n",
       "    }\n",
       "\n",
       "    .dataframe tbody tr th {\n",
       "        vertical-align: top;\n",
       "    }\n",
       "\n",
       "    .dataframe thead th {\n",
       "        text-align: right;\n",
       "    }\n",
       "</style>\n",
       "<table border=\"1\" class=\"dataframe\">\n",
       "  <thead>\n",
       "    <tr style=\"text-align: right;\">\n",
       "      <th></th>\n",
       "      <th>ID</th>\n",
       "      <th>Pred</th>\n",
       "      <th>Season</th>\n",
       "      <th>TeamIdA</th>\n",
       "      <th>TeamIdB</th>\n",
       "    </tr>\n",
       "  </thead>\n",
       "  <tbody>\n",
       "    <tr>\n",
       "      <th>0</th>\n",
       "      <td>2021_3104_3112</td>\n",
       "      <td>0.5</td>\n",
       "      <td>2021</td>\n",
       "      <td>3104</td>\n",
       "      <td>3112</td>\n",
       "    </tr>\n",
       "    <tr>\n",
       "      <th>1</th>\n",
       "      <td>2021_3104_3116</td>\n",
       "      <td>0.5</td>\n",
       "      <td>2021</td>\n",
       "      <td>3104</td>\n",
       "      <td>3116</td>\n",
       "    </tr>\n",
       "    <tr>\n",
       "      <th>2</th>\n",
       "      <td>2021_3104_3124</td>\n",
       "      <td>0.5</td>\n",
       "      <td>2021</td>\n",
       "      <td>3104</td>\n",
       "      <td>3124</td>\n",
       "    </tr>\n",
       "    <tr>\n",
       "      <th>3</th>\n",
       "      <td>2021_3104_3125</td>\n",
       "      <td>0.5</td>\n",
       "      <td>2021</td>\n",
       "      <td>3104</td>\n",
       "      <td>3125</td>\n",
       "    </tr>\n",
       "    <tr>\n",
       "      <th>4</th>\n",
       "      <td>2021_3104_3133</td>\n",
       "      <td>0.5</td>\n",
       "      <td>2021</td>\n",
       "      <td>3104</td>\n",
       "      <td>3133</td>\n",
       "    </tr>\n",
       "  </tbody>\n",
       "</table>\n",
       "</div>"
      ],
      "text/plain": [
       "               ID  Pred  Season  TeamIdA  TeamIdB\n",
       "0  2021_3104_3112   0.5    2021     3104     3112\n",
       "1  2021_3104_3116   0.5    2021     3104     3116\n",
       "2  2021_3104_3124   0.5    2021     3104     3124\n",
       "3  2021_3104_3125   0.5    2021     3104     3125\n",
       "4  2021_3104_3133   0.5    2021     3104     3133"
      ]
     },
     "execution_count": 37,
     "metadata": {},
     "output_type": "execute_result"
    }
   ],
   "source": [
    "df_test.head()"
   ]
  },
  {
   "cell_type": "markdown",
   "metadata": {
    "papermill": {
     "duration": 0.05035,
     "end_time": "2021-07-19T07:03:37.077767",
     "exception": false,
     "start_time": "2021-07-19T07:03:37.027417",
     "status": "completed"
    },
    "tags": []
   },
   "source": [
    "### Seeds"
   ]
  },
  {
   "cell_type": "code",
   "execution_count": 38,
   "metadata": {
    "execution": {
     "iopub.execute_input": "2021-07-19T07:03:37.180920Z",
     "iopub.status.busy": "2021-07-19T07:03:37.180297Z",
     "iopub.status.idle": "2021-07-19T07:03:37.191308Z",
     "shell.execute_reply": "2021-07-19T07:03:37.191890Z"
    },
    "papermill": {
     "duration": 0.064275,
     "end_time": "2021-07-19T07:03:37.192065",
     "exception": false,
     "start_time": "2021-07-19T07:03:37.127790",
     "status": "completed"
    },
    "tags": []
   },
   "outputs": [],
   "source": [
    "df_test = pd.merge(\n",
    "    df_test,\n",
    "    df_seeds,\n",
    "    how='left',\n",
    "    left_on=['Season', 'TeamIdA'],\n",
    "    right_on=['Season', 'TeamID']\n",
    ").drop('TeamID', axis=1).rename(columns={'Seed': 'SeedA'})"
   ]
  },
  {
   "cell_type": "code",
   "execution_count": 39,
   "metadata": {
    "execution": {
     "iopub.execute_input": "2021-07-19T07:03:37.293808Z",
     "iopub.status.busy": "2021-07-19T07:03:37.293220Z",
     "iopub.status.idle": "2021-07-19T07:03:37.304366Z",
     "shell.execute_reply": "2021-07-19T07:03:37.304899Z"
    },
    "papermill": {
     "duration": 0.063732,
     "end_time": "2021-07-19T07:03:37.305069",
     "exception": false,
     "start_time": "2021-07-19T07:03:37.241337",
     "status": "completed"
    },
    "tags": []
   },
   "outputs": [],
   "source": [
    "df_test = pd.merge(\n",
    "    df_test, \n",
    "    df_seeds, \n",
    "    how='left', \n",
    "    left_on=['Season', 'TeamIdB'], \n",
    "    right_on=['Season', 'TeamID']\n",
    ").drop('TeamID', axis=1).rename(columns={'Seed': 'SeedB'})"
   ]
  },
  {
   "cell_type": "code",
   "execution_count": 40,
   "metadata": {
    "execution": {
     "iopub.execute_input": "2021-07-19T07:03:37.407035Z",
     "iopub.status.busy": "2021-07-19T07:03:37.406439Z",
     "iopub.status.idle": "2021-07-19T07:03:37.422817Z",
     "shell.execute_reply": "2021-07-19T07:03:37.423345Z"
    },
    "papermill": {
     "duration": 0.068983,
     "end_time": "2021-07-19T07:03:37.423538",
     "exception": false,
     "start_time": "2021-07-19T07:03:37.354555",
     "status": "completed"
    },
    "tags": []
   },
   "outputs": [],
   "source": [
    "df_test['SeedA'] = df_test['SeedA'].apply(treat_seed)\n",
    "df_test['SeedB'] = df_test['SeedB'].apply(treat_seed)"
   ]
  },
  {
   "cell_type": "markdown",
   "metadata": {
    "papermill": {
     "duration": 0.049384,
     "end_time": "2021-07-19T07:03:37.522721",
     "exception": false,
     "start_time": "2021-07-19T07:03:37.473337",
     "status": "completed"
    },
    "tags": []
   },
   "source": [
    "### Season Stats"
   ]
  },
  {
   "cell_type": "code",
   "execution_count": 41,
   "metadata": {
    "execution": {
     "iopub.execute_input": "2021-07-19T07:03:37.625578Z",
     "iopub.status.busy": "2021-07-19T07:03:37.624944Z",
     "iopub.status.idle": "2021-07-19T07:03:37.638543Z",
     "shell.execute_reply": "2021-07-19T07:03:37.638008Z"
    },
    "papermill": {
     "duration": 0.066143,
     "end_time": "2021-07-19T07:03:37.638692",
     "exception": false,
     "start_time": "2021-07-19T07:03:37.572549",
     "status": "completed"
    },
    "tags": []
   },
   "outputs": [],
   "source": [
    "df_test = pd.merge(\n",
    "    df_test,\n",
    "    df_features_season,\n",
    "    how='left',\n",
    "    left_on=['Season', 'TeamIdA'],\n",
    "    right_on=['Season', 'TeamID']\n",
    ").rename(columns={\n",
    "    'NumWins': 'NumWinsA',\n",
    "    'NumLosses': 'NumLossesA',\n",
    "    'GapWins': 'GapWinsA',\n",
    "    'GapLosses': 'GapLossesA',\n",
    "    'WinRatio': 'WinRatioA',\n",
    "    'GapAvg': 'GapAvgA',\n",
    "}).drop(columns='TeamID', axis=1)"
   ]
  },
  {
   "cell_type": "code",
   "execution_count": 42,
   "metadata": {
    "execution": {
     "iopub.execute_input": "2021-07-19T07:03:37.746690Z",
     "iopub.status.busy": "2021-07-19T07:03:37.746012Z",
     "iopub.status.idle": "2021-07-19T07:03:37.755017Z",
     "shell.execute_reply": "2021-07-19T07:03:37.754481Z"
    },
    "papermill": {
     "duration": 0.066193,
     "end_time": "2021-07-19T07:03:37.755160",
     "exception": false,
     "start_time": "2021-07-19T07:03:37.688967",
     "status": "completed"
    },
    "tags": []
   },
   "outputs": [],
   "source": [
    "df_test = pd.merge(\n",
    "    df_test,\n",
    "    df_features_season,\n",
    "    how='left',\n",
    "    left_on=['Season', 'TeamIdB'],\n",
    "    right_on=['Season', 'TeamID']\n",
    ").rename(columns={\n",
    "    'NumWins': 'NumWinsB',\n",
    "    'NumLosses': 'NumLossesB',\n",
    "    'GapWins': 'GapWinsB',\n",
    "    'GapLosses': 'GapLossesB',\n",
    "    'WinRatio': 'WinRatioB',\n",
    "    'GapAvg': 'GapAvgB',\n",
    "}).drop(columns='TeamID', axis=1)"
   ]
  },
  {
   "cell_type": "markdown",
   "metadata": {
    "papermill": {
     "duration": 0.049486,
     "end_time": "2021-07-19T07:03:37.854474",
     "exception": false,
     "start_time": "2021-07-19T07:03:37.804988",
     "status": "completed"
    },
    "tags": []
   },
   "source": [
    "### Differences"
   ]
  },
  {
   "cell_type": "code",
   "execution_count": 43,
   "metadata": {
    "execution": {
     "iopub.execute_input": "2021-07-19T07:03:37.964683Z",
     "iopub.status.busy": "2021-07-19T07:03:37.963782Z",
     "iopub.status.idle": "2021-07-19T07:03:37.966830Z",
     "shell.execute_reply": "2021-07-19T07:03:37.966172Z"
    },
    "papermill": {
     "duration": 0.062339,
     "end_time": "2021-07-19T07:03:37.966974",
     "exception": false,
     "start_time": "2021-07-19T07:03:37.904635",
     "status": "completed"
    },
    "tags": []
   },
   "outputs": [],
   "source": [
    "df_test['SeedDiff'] = df_test['SeedA'] - df_test['SeedB']\n",
    "df_test['WinRatioDiff'] = df_test['WinRatioA'] - df_test['WinRatioB']\n",
    "df_test['GapAvgDiff'] = df_test['GapAvgA'] - df_test['GapAvgB']"
   ]
  },
  {
   "cell_type": "code",
   "execution_count": 44,
   "metadata": {
    "execution": {
     "iopub.execute_input": "2021-07-19T07:03:38.071098Z",
     "iopub.status.busy": "2021-07-19T07:03:38.070464Z",
     "iopub.status.idle": "2021-07-19T07:03:38.087591Z",
     "shell.execute_reply": "2021-07-19T07:03:38.088174Z"
    },
    "papermill": {
     "duration": 0.070584,
     "end_time": "2021-07-19T07:03:38.088371",
     "exception": false,
     "start_time": "2021-07-19T07:03:38.017787",
     "status": "completed"
    },
    "tags": []
   },
   "outputs": [
    {
     "data": {
      "text/html": [
       "<div>\n",
       "<style scoped>\n",
       "    .dataframe tbody tr th:only-of-type {\n",
       "        vertical-align: middle;\n",
       "    }\n",
       "\n",
       "    .dataframe tbody tr th {\n",
       "        vertical-align: top;\n",
       "    }\n",
       "\n",
       "    .dataframe thead th {\n",
       "        text-align: right;\n",
       "    }\n",
       "</style>\n",
       "<table border=\"1\" class=\"dataframe\">\n",
       "  <thead>\n",
       "    <tr style=\"text-align: right;\">\n",
       "      <th></th>\n",
       "      <th>ID</th>\n",
       "      <th>Pred</th>\n",
       "      <th>Season</th>\n",
       "      <th>TeamIdA</th>\n",
       "      <th>TeamIdB</th>\n",
       "      <th>SeedA</th>\n",
       "      <th>SeedB</th>\n",
       "      <th>WinRatioA</th>\n",
       "      <th>GapAvgA</th>\n",
       "      <th>WinRatioB</th>\n",
       "      <th>GapAvgB</th>\n",
       "      <th>SeedDiff</th>\n",
       "      <th>WinRatioDiff</th>\n",
       "      <th>GapAvgDiff</th>\n",
       "    </tr>\n",
       "  </thead>\n",
       "  <tbody>\n",
       "    <tr>\n",
       "      <th>0</th>\n",
       "      <td>2021_3104_3112</td>\n",
       "      <td>0.5</td>\n",
       "      <td>2021</td>\n",
       "      <td>3104</td>\n",
       "      <td>3112</td>\n",
       "      <td>7</td>\n",
       "      <td>3</td>\n",
       "      <td>0.64</td>\n",
       "      <td>4.76</td>\n",
       "      <td>0.761905</td>\n",
       "      <td>10.523810</td>\n",
       "      <td>4</td>\n",
       "      <td>-0.121905</td>\n",
       "      <td>-5.763810</td>\n",
       "    </tr>\n",
       "    <tr>\n",
       "      <th>1</th>\n",
       "      <td>2021_3104_3116</td>\n",
       "      <td>0.5</td>\n",
       "      <td>2021</td>\n",
       "      <td>3104</td>\n",
       "      <td>3116</td>\n",
       "      <td>7</td>\n",
       "      <td>4</td>\n",
       "      <td>0.64</td>\n",
       "      <td>4.76</td>\n",
       "      <td>0.703704</td>\n",
       "      <td>9.000000</td>\n",
       "      <td>3</td>\n",
       "      <td>-0.063704</td>\n",
       "      <td>-4.240000</td>\n",
       "    </tr>\n",
       "    <tr>\n",
       "      <th>2</th>\n",
       "      <td>2021_3104_3124</td>\n",
       "      <td>0.5</td>\n",
       "      <td>2021</td>\n",
       "      <td>3104</td>\n",
       "      <td>3124</td>\n",
       "      <td>7</td>\n",
       "      <td>2</td>\n",
       "      <td>0.64</td>\n",
       "      <td>4.76</td>\n",
       "      <td>0.925926</td>\n",
       "      <td>27.111111</td>\n",
       "      <td>5</td>\n",
       "      <td>-0.285926</td>\n",
       "      <td>-22.351111</td>\n",
       "    </tr>\n",
       "    <tr>\n",
       "      <th>3</th>\n",
       "      <td>2021_3104_3125</td>\n",
       "      <td>0.5</td>\n",
       "      <td>2021</td>\n",
       "      <td>3104</td>\n",
       "      <td>3125</td>\n",
       "      <td>7</td>\n",
       "      <td>12</td>\n",
       "      <td>0.64</td>\n",
       "      <td>4.76</td>\n",
       "      <td>0.800000</td>\n",
       "      <td>12.320000</td>\n",
       "      <td>-5</td>\n",
       "      <td>-0.160000</td>\n",
       "      <td>-7.560000</td>\n",
       "    </tr>\n",
       "    <tr>\n",
       "      <th>4</th>\n",
       "      <td>2021_3104_3133</td>\n",
       "      <td>0.5</td>\n",
       "      <td>2021</td>\n",
       "      <td>3104</td>\n",
       "      <td>3133</td>\n",
       "      <td>7</td>\n",
       "      <td>11</td>\n",
       "      <td>0.64</td>\n",
       "      <td>4.76</td>\n",
       "      <td>0.592593</td>\n",
       "      <td>4.592593</td>\n",
       "      <td>-4</td>\n",
       "      <td>0.047407</td>\n",
       "      <td>0.167407</td>\n",
       "    </tr>\n",
       "  </tbody>\n",
       "</table>\n",
       "</div>"
      ],
      "text/plain": [
       "               ID  Pred  Season  TeamIdA  TeamIdB  SeedA  SeedB  WinRatioA  \\\n",
       "0  2021_3104_3112   0.5    2021     3104     3112      7      3       0.64   \n",
       "1  2021_3104_3116   0.5    2021     3104     3116      7      4       0.64   \n",
       "2  2021_3104_3124   0.5    2021     3104     3124      7      2       0.64   \n",
       "3  2021_3104_3125   0.5    2021     3104     3125      7     12       0.64   \n",
       "4  2021_3104_3133   0.5    2021     3104     3133      7     11       0.64   \n",
       "\n",
       "   GapAvgA  WinRatioB    GapAvgB  SeedDiff  WinRatioDiff  GapAvgDiff  \n",
       "0     4.76   0.761905  10.523810         4     -0.121905   -5.763810  \n",
       "1     4.76   0.703704   9.000000         3     -0.063704   -4.240000  \n",
       "2     4.76   0.925926  27.111111         5     -0.285926  -22.351111  \n",
       "3     4.76   0.800000  12.320000        -5     -0.160000   -7.560000  \n",
       "4     4.76   0.592593   4.592593        -4      0.047407    0.167407  "
      ]
     },
     "execution_count": 44,
     "metadata": {},
     "output_type": "execute_result"
    }
   ],
   "source": [
    "df_test.head()"
   ]
  },
  {
   "cell_type": "markdown",
   "metadata": {
    "papermill": {
     "duration": 0.050338,
     "end_time": "2021-07-19T07:03:38.189484",
     "exception": false,
     "start_time": "2021-07-19T07:03:38.139146",
     "status": "completed"
    },
    "tags": []
   },
   "source": [
    "## Target"
   ]
  },
  {
   "cell_type": "code",
   "execution_count": 45,
   "metadata": {
    "execution": {
     "iopub.execute_input": "2021-07-19T07:03:38.293566Z",
     "iopub.status.busy": "2021-07-19T07:03:38.292896Z",
     "iopub.status.idle": "2021-07-19T07:03:38.299986Z",
     "shell.execute_reply": "2021-07-19T07:03:38.299501Z"
    },
    "papermill": {
     "duration": 0.060459,
     "end_time": "2021-07-19T07:03:38.300127",
     "exception": false,
     "start_time": "2021-07-19T07:03:38.239668",
     "status": "completed"
    },
    "tags": []
   },
   "outputs": [],
   "source": [
    "df['ScoreDiff'] = df['ScoreA'] - df['ScoreB']\n",
    "df['WinA'] = (df['ScoreDiff'] > 0).astype(int)"
   ]
  },
  {
   "cell_type": "markdown",
   "metadata": {
    "papermill": {
     "duration": 0.050631,
     "end_time": "2021-07-19T07:03:38.401261",
     "exception": false,
     "start_time": "2021-07-19T07:03:38.350630",
     "status": "completed"
    },
    "tags": []
   },
   "source": [
    "# Modeling"
   ]
  },
  {
   "cell_type": "code",
   "execution_count": 46,
   "metadata": {
    "execution": {
     "iopub.execute_input": "2021-07-19T07:03:38.508427Z",
     "iopub.status.busy": "2021-07-19T07:03:38.507572Z",
     "iopub.status.idle": "2021-07-19T07:03:38.510390Z",
     "shell.execute_reply": "2021-07-19T07:03:38.509839Z"
    },
    "papermill": {
     "duration": 0.058394,
     "end_time": "2021-07-19T07:03:38.510530",
     "exception": false,
     "start_time": "2021-07-19T07:03:38.452136",
     "status": "completed"
    },
    "tags": []
   },
   "outputs": [],
   "source": [
    "features = [\n",
    "    'SeedA',\n",
    "    'SeedB',\n",
    "    'WinRatioA',\n",
    "    'GapAvgA',\n",
    "    'WinRatioB',\n",
    "    'GapAvgB',\n",
    "    'SeedDiff',\n",
    "    'WinRatioDiff',\n",
    "    'GapAvgDiff'\n",
    "]"
   ]
  },
  {
   "cell_type": "code",
   "execution_count": 47,
   "metadata": {
    "execution": {
     "iopub.execute_input": "2021-07-19T07:03:38.619541Z",
     "iopub.status.busy": "2021-07-19T07:03:38.618864Z",
     "iopub.status.idle": "2021-07-19T07:03:38.622277Z",
     "shell.execute_reply": "2021-07-19T07:03:38.621643Z"
    },
    "papermill": {
     "duration": 0.060921,
     "end_time": "2021-07-19T07:03:38.622429",
     "exception": false,
     "start_time": "2021-07-19T07:03:38.561508",
     "status": "completed"
    },
    "tags": []
   },
   "outputs": [],
   "source": [
    "def rescale(features, df_train, df_val, df_test=None):\n",
    "    min_ = df_train[features].min()\n",
    "    max_ = df_train[features].max()\n",
    "    \n",
    "    df_train[features] = (df_train[features] - min_) / (max_ - min_)\n",
    "    df_val[features] = (df_val[features] - min_) / (max_ - min_)\n",
    "    \n",
    "    if df_test is not None:\n",
    "        df_test[features] = (df_test[features] - min_) / (max_ - min_)\n",
    "        \n",
    "    return df_train, df_val, df_test"
   ]
  },
  {
   "cell_type": "markdown",
   "metadata": {
    "papermill": {
     "duration": 0.051211,
     "end_time": "2021-07-19T07:03:38.725219",
     "exception": false,
     "start_time": "2021-07-19T07:03:38.674008",
     "status": "completed"
    },
    "tags": []
   },
   "source": [
    "### Cross Validation\n",
    "- Validate on season `n`, for `n` in the 10 last seasons.\n",
    "- Train on earlier seasons \n",
    "- Pipeline support classification (predict the team that wins) and regression (predict the score gap)"
   ]
  },
  {
   "cell_type": "code",
   "execution_count": 48,
   "metadata": {
    "execution": {
     "iopub.execute_input": "2021-07-19T07:03:38.831178Z",
     "iopub.status.busy": "2021-07-19T07:03:38.830130Z",
     "iopub.status.idle": "2021-07-19T07:03:38.845288Z",
     "shell.execute_reply": "2021-07-19T07:03:38.845749Z"
    },
    "papermill": {
     "duration": 0.069739,
     "end_time": "2021-07-19T07:03:38.845948",
     "exception": false,
     "start_time": "2021-07-19T07:03:38.776209",
     "status": "completed"
    },
    "tags": []
   },
   "outputs": [],
   "source": [
    "def kfold_reg(df, df_test_=None, plot=False, verbose=0, mode=\"reg\"):\n",
    "    seasons = df['Season'].unique()\n",
    "    cvs = []\n",
    "    pred_tests = []\n",
    "    target = \"ScoreDiff\" if mode == \"reg\" else \"WinA\"\n",
    "    \n",
    "    for season in seasons[10:]:\n",
    "        if verbose:\n",
    "            print(f'\\nValidating on season {season}')\n",
    "        \n",
    "        df_train = df[df['Season'] < season].reset_index(drop=True).copy()\n",
    "        df_val = df[df['Season'] == season].reset_index(drop=True).copy()\n",
    "        df_test = df_test_.copy()\n",
    "        \n",
    "        df_train, df_val, df_test = rescale(features, df_train, df_val, df_test)\n",
    "        \n",
    "        if mode == \"reg\":\n",
    "            model = ElasticNet(alpha=1, l1_ratio=0.5)\n",
    "        else:\n",
    "            model = LogisticRegression(C=10)\n",
    "            \n",
    "        model.fit(df_train[features], df_train[target])\n",
    "        \n",
    "        if mode == \"reg\":\n",
    "            pred = model.predict(df_val[features])\n",
    "            pred = (pred - pred.min()) / (pred.max() - pred.min())\n",
    "        else:\n",
    "            pred = model.predict_proba(df_val[features])[:, 1]\n",
    "        \n",
    "        if df_test is not None:\n",
    "            if mode == \"reg\":\n",
    "                pred_test = model.predict(df_test[features])\n",
    "                pred_test = (pred_test - pred_test.min()) / (pred_test.max() - pred_test.min())\n",
    "            else:\n",
    "                pred_test = model.predict_proba(df_test[features])[:, 1]\n",
    "                \n",
    "            pred_tests.append(pred_test)\n",
    "            \n",
    "        if plot:\n",
    "            plt.figure(figsize=(15, 6))\n",
    "            plt.subplot(1, 2, 1)\n",
    "            plt.scatter(pred, df_val['ScoreDiff'].values, s=5)\n",
    "            plt.grid(True)\n",
    "            plt.subplot(1, 2, 2)\n",
    "            sns.histplot(pred)\n",
    "            plt.show()\n",
    "        \n",
    "        loss = log_loss(df_val['WinA'].values, pred)\n",
    "        cvs.append(loss)\n",
    "\n",
    "        if verbose:\n",
    "            print(f'\\t -> Scored {loss:.3f}')\n",
    "        \n",
    "    print(f'\\n Local CV is {np.mean(cvs):.3f}')\n",
    "    \n",
    "    return pred_tests"
   ]
  },
  {
   "cell_type": "code",
   "execution_count": 49,
   "metadata": {
    "execution": {
     "iopub.execute_input": "2021-07-19T07:03:38.952511Z",
     "iopub.status.busy": "2021-07-19T07:03:38.951556Z",
     "iopub.status.idle": "2021-07-19T07:03:39.457031Z",
     "shell.execute_reply": "2021-07-19T07:03:39.456513Z"
    },
    "papermill": {
     "duration": 0.560117,
     "end_time": "2021-07-19T07:03:39.457195",
     "exception": false,
     "start_time": "2021-07-19T07:03:38.897078",
     "status": "completed"
    },
    "tags": []
   },
   "outputs": [
    {
     "name": "stdout",
     "output_type": "stream",
     "text": [
      "\n",
      "Validating on season 2008\n",
      "\t -> Scored 0.373\n",
      "\n",
      "Validating on season 2009\n",
      "\t -> Scored 0.467\n",
      "\n",
      "Validating on season 2010\n",
      "\t -> Scored 0.414\n",
      "\n",
      "Validating on season 2011\n",
      "\t -> Scored 0.391\n",
      "\n",
      "Validating on season 2012\n",
      "\t -> Scored 0.400\n",
      "\n",
      "Validating on season 2013\n",
      "\t -> Scored 0.442\n",
      "\n",
      "Validating on season 2014\n",
      "\t -> Scored 0.428\n",
      "\n",
      "Validating on season 2015\n",
      "\t -> Scored 0.375\n",
      "\n",
      "Validating on season 2016\n",
      "\t -> Scored 0.453\n",
      "\n",
      "Validating on season 2017\n",
      "\t -> Scored 0.444\n",
      "\n",
      "Validating on season 2018\n",
      "\t -> Scored 0.495\n",
      "\n",
      "Validating on season 2019\n",
      "\t -> Scored 0.388\n",
      "\n",
      " Local CV is 0.423\n"
     ]
    }
   ],
   "source": [
    "df = df[df['Season'] <= 2019].reset_index(drop=True)\n",
    "pred_tests = kfold_reg(df, df_test, plot=False, verbose=1, mode=\"cls\")"
   ]
  },
  {
   "cell_type": "markdown",
   "metadata": {
    "papermill": {
     "duration": 0.052053,
     "end_time": "2021-07-19T07:03:39.562031",
     "exception": false,
     "start_time": "2021-07-19T07:03:39.509978",
     "status": "completed"
    },
    "tags": []
   },
   "source": [
    "### Submission \n",
    " \n",
    "For the final submission, I am following the below strategy.\n",
    "\n",
    "If the predicted probability by the model for team A winning is greater than 70% then the predicted values are used for submission else we make the probability of higher seed winning as 64% in one submission file and probability of lower seed winning as 64% in another submission file.\n"
   ]
  },
  {
   "cell_type": "code",
   "execution_count": 50,
   "metadata": {
    "execution": {
     "iopub.execute_input": "2021-07-19T07:03:39.672273Z",
     "iopub.status.busy": "2021-07-19T07:03:39.671572Z",
     "iopub.status.idle": "2021-07-19T07:03:39.674812Z",
     "shell.execute_reply": "2021-07-19T07:03:39.674311Z"
    },
    "papermill": {
     "duration": 0.060403,
     "end_time": "2021-07-19T07:03:39.674951",
     "exception": false,
     "start_time": "2021-07-19T07:03:39.614548",
     "status": "completed"
    },
    "tags": []
   },
   "outputs": [],
   "source": [
    "pred_tests = np.mean(pred_tests, 0)"
   ]
  },
  {
   "cell_type": "code",
   "execution_count": 51,
   "metadata": {
    "execution": {
     "iopub.execute_input": "2021-07-19T07:03:39.787913Z",
     "iopub.status.busy": "2021-07-19T07:03:39.787159Z",
     "iopub.status.idle": "2021-07-19T07:03:39.789938Z",
     "shell.execute_reply": "2021-07-19T07:03:39.789446Z"
    },
    "papermill": {
     "duration": 0.062559,
     "end_time": "2021-07-19T07:03:39.790081",
     "exception": false,
     "start_time": "2021-07-19T07:03:39.727522",
     "status": "completed"
    },
    "tags": []
   },
   "outputs": [],
   "source": [
    "pred_test1 = []\n",
    "pred_test2 = []\n",
    "for i in pred_tests:\n",
    "    if i < 0.7 and i > 0.3:\n",
    "        pred_test1.append(0.64)\n",
    "        pred_test2.append(0.36)\n",
    "    else:\n",
    "        pred_test1.append(i)\n",
    "        pred_test2.append(i)"
   ]
  },
  {
   "cell_type": "code",
   "execution_count": 52,
   "metadata": {
    "execution": {
     "iopub.execute_input": "2021-07-19T07:03:39.902183Z",
     "iopub.status.busy": "2021-07-19T07:03:39.901447Z",
     "iopub.status.idle": "2021-07-19T07:03:39.926669Z",
     "shell.execute_reply": "2021-07-19T07:03:39.927209Z"
    },
    "papermill": {
     "duration": 0.084748,
     "end_time": "2021-07-19T07:03:39.927429",
     "exception": false,
     "start_time": "2021-07-19T07:03:39.842681",
     "status": "completed"
    },
    "tags": []
   },
   "outputs": [],
   "source": [
    "sub1 = df_test[['ID', 'Pred']].copy()\n",
    "sub1['Pred'] = pred_test1\n",
    "sub1.to_csv('submission1.csv', index=False)\n",
    "\n",
    "sub2 = df_test[['ID', 'Pred']].copy()\n",
    "sub2['Pred'] = pred_test2\n",
    "sub2.to_csv('submission2.csv', index=False)"
   ]
  },
  {
   "cell_type": "code",
   "execution_count": 53,
   "metadata": {
    "execution": {
     "iopub.execute_input": "2021-07-19T07:03:40.061775Z",
     "iopub.status.busy": "2021-07-19T07:03:40.061051Z",
     "iopub.status.idle": "2021-07-19T07:03:40.248966Z",
     "shell.execute_reply": "2021-07-19T07:03:40.249523Z"
    },
    "papermill": {
     "duration": 0.268972,
     "end_time": "2021-07-19T07:03:40.249697",
     "exception": false,
     "start_time": "2021-07-19T07:03:39.980725",
     "status": "completed"
    },
    "tags": []
   },
   "outputs": [
    {
     "data": {
      "image/png": "[encoded data removed]",
      "text/plain": [
       "<Figure size 432x288 with 1 Axes>"
      ]
     },
     "metadata": {
      "needs_background": "light"
     },
     "output_type": "display_data"
    }
   ],
   "source": [
    "_ = sns.histplot(sub1['Pred'])"
   ]
  },
  {
   "cell_type": "code",
   "execution_count": 54,
   "metadata": {
    "execution": {
     "iopub.execute_input": "2021-07-19T07:03:40.360782Z",
     "iopub.status.busy": "2021-07-19T07:03:40.359772Z",
     "iopub.status.idle": "2021-07-19T07:03:40.535429Z",
     "shell.execute_reply": "2021-07-19T07:03:40.534880Z"
    },
    "papermill": {
     "duration": 0.232456,
     "end_time": "2021-07-19T07:03:40.535583",
     "exception": false,
     "start_time": "2021-07-19T07:03:40.303127",
     "status": "completed"
    },
    "tags": []
   },
   "outputs": [
    {
     "data": {
      "image/png": "[encoded data removed]",
      "text/plain": [
       "<Figure size 432x288 with 1 Axes>"
      ]
     },
     "metadata": {
      "needs_background": "light"
     },
     "output_type": "display_data"
    }
   ],
   "source": [
    "_ = sns.histplot(sub2['Pred'])"
   ]
  },
  {
   "cell_type": "code",
   "execution_count": 55,
   "metadata": {
    "execution": {
     "iopub.execute_input": "2021-07-19T07:03:40.654434Z",
     "iopub.status.busy": "2021-07-19T07:03:40.653629Z",
     "iopub.status.idle": "2021-07-19T07:03:40.657770Z",
     "shell.execute_reply": "2021-07-19T07:03:40.657126Z"
    },
    "papermill": {
     "duration": 0.067556,
     "end_time": "2021-07-19T07:03:40.657918",
     "exception": false,
     "start_time": "2021-07-19T07:03:40.590362",
     "status": "completed"
    },
    "tags": []
   },
   "outputs": [
    {
     "data": {
      "text/html": [
       "<div>\n",
       "<style scoped>\n",
       "    .dataframe tbody tr th:only-of-type {\n",
       "        vertical-align: middle;\n",
       "    }\n",
       "\n",
       "    .dataframe tbody tr th {\n",
       "        vertical-align: top;\n",
       "    }\n",
       "\n",
       "    .dataframe thead th {\n",
       "        text-align: right;\n",
       "    }\n",
       "</style>\n",
       "<table border=\"1\" class=\"dataframe\">\n",
       "  <thead>\n",
       "    <tr style=\"text-align: right;\">\n",
       "      <th></th>\n",
       "      <th>ID</th>\n",
       "      <th>Pred</th>\n",
       "    </tr>\n",
       "  </thead>\n",
       "  <tbody>\n",
       "    <tr>\n",
       "      <th>0</th>\n",
       "      <td>2021_3104_3112</td>\n",
       "      <td>0.235174</td>\n",
       "    </tr>\n",
       "    <tr>\n",
       "      <th>1</th>\n",
       "      <td>2021_3104_3116</td>\n",
       "      <td>0.281256</td>\n",
       "    </tr>\n",
       "    <tr>\n",
       "      <th>2</th>\n",
       "      <td>2021_3104_3124</td>\n",
       "      <td>0.068013</td>\n",
       "    </tr>\n",
       "    <tr>\n",
       "      <th>3</th>\n",
       "      <td>2021_3104_3125</td>\n",
       "      <td>0.640000</td>\n",
       "    </tr>\n",
       "    <tr>\n",
       "      <th>4</th>\n",
       "      <td>2021_3104_3133</td>\n",
       "      <td>0.640000</td>\n",
       "    </tr>\n",
       "  </tbody>\n",
       "</table>\n",
       "</div>"
      ],
      "text/plain": [
       "               ID      Pred\n",
       "0  2021_3104_3112  0.235174\n",
       "1  2021_3104_3116  0.281256\n",
       "2  2021_3104_3124  0.068013\n",
       "3  2021_3104_3125  0.640000\n",
       "4  2021_3104_3133  0.640000"
      ]
     },
     "execution_count": 55,
     "metadata": {},
     "output_type": "execute_result"
    }
   ],
   "source": [
    "sub1.head()"
   ]
  },
  {
   "cell_type": "code",
   "execution_count": null,
   "metadata": {
    "papermill": {
     "duration": 0.054556,
     "end_time": "2021-07-19T07:03:40.767375",
     "exception": false,
     "start_time": "2021-07-19T07:03:40.712819",
     "status": "completed"
    },
    "tags": []
   },
   "outputs": [],
   "source": []
  }
 ],
 "metadata": {
  "kernelspec": {
   "display_name": "Python 3",
   "language": "python",
   "name": "python3"
  },
  "language_info": {
   "codemirror_mode": {
    "name": "ipython",
    "version": 3
   },
   "file_extension": ".py",
   "mimetype": "text/x-python",
   "name": "python",
   "nbconvert_exporter": "python",
   "pygments_lexer": "ipython3",
   "version": "3.7.9"
  },
  "papermill": {
   "default_parameters": {},
   "duration": 17.316458,
   "end_time": "2021-07-19T07:03:41.431492",
   "environment_variables": {},
   "exception": null,
   "input_path": "__notebook__.ipynb",
   "output_path": "__notebook__.ipynb",
   "parameters": {},
   "start_time": "2021-07-19T07:03:24.115034",
   "version": "2.2.2"
  }
 },
 "nbformat": 4,
 "nbformat_minor": 4
}
